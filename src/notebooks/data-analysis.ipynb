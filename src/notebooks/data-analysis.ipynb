{
 "cells": [
  {
   "cell_type": "code",
   "execution_count": 2,
   "id": "d6526cee-23b6-4cca-9605-035b4ff3ecd7",
   "metadata": {},
   "outputs": [
    {
     "name": "stderr",
     "output_type": "stream",
     "text": [
      "C:\\Users\\MrMil\\miniconda3\\envs\\automl-drug-discovery\\lib\\site-packages\\tqdm\\auto.py:22: TqdmWarning: IProgress not found. Please update jupyter and ipywidgets. See https://ipywidgets.readthedocs.io/en/stable/user_install.html\n",
      "  from .autonotebook import tqdm as notebook_tqdm\n",
      "WARNING:root:No normalization for BCUT2D_MWHI\n",
      "WARNING:root:No normalization for BCUT2D_MWLOW\n",
      "WARNING:root:No normalization for BCUT2D_CHGHI\n",
      "WARNING:root:No normalization for BCUT2D_CHGLO\n",
      "WARNING:root:No normalization for BCUT2D_LOGPHI\n",
      "WARNING:root:No normalization for BCUT2D_LOGPLOW\n",
      "WARNING:root:No normalization for BCUT2D_MRHI\n",
      "WARNING:root:No normalization for BCUT2D_MRLOW\n"
     ]
    }
   ],
   "source": [
    "import os\n",
    "import sys\n",
    "module_path = os.path.abspath(os.path.join('../..'))\n",
    "if module_path not in sys.path:\n",
    "    sys.path.append(module_path)"
   ]
  },
  {
   "cell_type": "code",
   "execution_count": 71,
   "id": "31afdf37-934d-42e2-a08c-02cfcb4167c1",
   "metadata": {},
   "outputs": [],
   "source": [
    "import random\n",
    "\n",
    "import matplotlib.pyplot as plt\n",
    "import numpy as np\n",
    "import pandas as pd\n",
    "import torch\n",
    "from sklearn.feature_selection import r_regression\n",
    "from sklearn.decomposition import PCA\n",
    "\n",
    "from src.config import DATA_DIR, DATAFILE_NAME\n",
    "from src.data import HTSDataset, _read_data"
   ]
  },
  {
   "cell_type": "code",
   "execution_count": 8,
   "id": "cc8758fc-6bff-4f09-b191-c5a3749629d5",
   "metadata": {},
   "outputs": [],
   "source": [
    "DATASET = 'AID1445'\n",
    "DATASET_DIR = DATA_DIR / DATASET\n",
    "SD_OR_DR = 'SD'"
   ]
  },
  {
   "cell_type": "code",
   "execution_count": null,
   "id": "8f8c610b-bd49-464f-9524-f9ed8256b21d",
   "metadata": {},
   "outputs": [
    {
     "name": "stderr",
     "output_type": "stream",
     "text": [
      "Processing...\n",
      "Done!\n"
     ]
    }
   ],
   "source": [
    "raw_dataset = _read_data(DATASET_DIR / DATAFILE_NAME)\n",
    "dataset = HTSDataset(DATASET_DIR, SD_OR_DR)"
   ]
  },
  {
   "cell_type": "code",
   "execution_count": 15,
   "id": "dc5f0a3d-bd76-4132-be3f-48b5f76d481a",
   "metadata": {},
   "outputs": [],
   "source": [
    "dr_data = raw_dataset[raw_dataset['DR'].notnull()]"
   ]
  },
  {
   "cell_type": "code",
   "execution_count": null,
   "id": "0ae945d8-28d9-4dd7-b3a1-e448bbeab554",
   "metadata": {},
   "outputs": [],
   "source": [
    "dr_data.head()"
   ]
  },
  {
   "cell_type": "code",
   "execution_count": 16,
   "id": "0e79b655-fa7d-4b34-9c47-4e283710d726",
   "metadata": {},
   "outputs": [
    {
     "data": {
      "text/html": [
       "<div>\n",
       "<style scoped>\n",
       "    .dataframe tbody tr th:only-of-type {\n",
       "        vertical-align: middle;\n",
       "    }\n",
       "\n",
       "    .dataframe tbody tr th {\n",
       "        vertical-align: top;\n",
       "    }\n",
       "\n",
       "    .dataframe thead th {\n",
       "        text-align: right;\n",
       "    }\n",
       "</style>\n",
       "<table border=\"1\" class=\"dataframe\">\n",
       "  <thead>\n",
       "    <tr style=\"text-align: right;\">\n",
       "      <th></th>\n",
       "      <th>CID</th>\n",
       "      <th>SD</th>\n",
       "      <th>SD Z-score</th>\n",
       "      <th>DR</th>\n",
       "      <th>XC50</th>\n",
       "      <th># atoms</th>\n",
       "      <th>Max atomic num</th>\n",
       "    </tr>\n",
       "  </thead>\n",
       "  <tbody>\n",
       "    <tr>\n",
       "      <th>count</th>\n",
       "      <td>6.550000e+02</td>\n",
       "      <td>655.000000</td>\n",
       "      <td>655.000000</td>\n",
       "      <td>655.000000</td>\n",
       "      <td>655.000000</td>\n",
       "      <td>655.000000</td>\n",
       "      <td>655.0</td>\n",
       "    </tr>\n",
       "    <tr>\n",
       "      <th>mean</th>\n",
       "      <td>2.253767e+07</td>\n",
       "      <td>45.096621</td>\n",
       "      <td>6.377211</td>\n",
       "      <td>4.446591</td>\n",
       "      <td>46.474321</td>\n",
       "      <td>27.267176</td>\n",
       "      <td>53.0</td>\n",
       "    </tr>\n",
       "    <tr>\n",
       "      <th>std</th>\n",
       "      <td>4.542512e+07</td>\n",
       "      <td>15.295037</td>\n",
       "      <td>2.355941</td>\n",
       "      <td>0.356258</td>\n",
       "      <td>35.531813</td>\n",
       "      <td>5.194422</td>\n",
       "      <td>0.0</td>\n",
       "    </tr>\n",
       "    <tr>\n",
       "      <th>min</th>\n",
       "      <td>2.333000e+03</td>\n",
       "      <td>25.953333</td>\n",
       "      <td>3.428512</td>\n",
       "      <td>3.208590</td>\n",
       "      <td>1.000000</td>\n",
       "      <td>13.000000</td>\n",
       "      <td>53.0</td>\n",
       "    </tr>\n",
       "    <tr>\n",
       "      <th>25%</th>\n",
       "      <td>1.942414e+06</td>\n",
       "      <td>33.725000</td>\n",
       "      <td>4.625606</td>\n",
       "      <td>4.204502</td>\n",
       "      <td>24.515000</td>\n",
       "      <td>24.000000</td>\n",
       "      <td>53.0</td>\n",
       "    </tr>\n",
       "    <tr>\n",
       "      <th>50%</th>\n",
       "      <td>3.641576e+06</td>\n",
       "      <td>40.130000</td>\n",
       "      <td>5.612187</td>\n",
       "      <td>4.375409</td>\n",
       "      <td>42.130000</td>\n",
       "      <td>27.000000</td>\n",
       "      <td>53.0</td>\n",
       "    </tr>\n",
       "    <tr>\n",
       "      <th>75%</th>\n",
       "      <td>6.786807e+06</td>\n",
       "      <td>50.910000</td>\n",
       "      <td>7.272663</td>\n",
       "      <td>4.610568</td>\n",
       "      <td>62.445000</td>\n",
       "      <td>31.000000</td>\n",
       "      <td>53.0</td>\n",
       "    </tr>\n",
       "    <tr>\n",
       "      <th>max</th>\n",
       "      <td>1.358460e+08</td>\n",
       "      <td>99.860000</td>\n",
       "      <td>14.812578</td>\n",
       "      <td>6.000000</td>\n",
       "      <td>618.600000</td>\n",
       "      <td>48.000000</td>\n",
       "      <td>53.0</td>\n",
       "    </tr>\n",
       "  </tbody>\n",
       "</table>\n",
       "</div>"
      ],
      "text/plain": [
       "                CID          SD  SD Z-score          DR        XC50  \\\n",
       "count  6.550000e+02  655.000000  655.000000  655.000000  655.000000   \n",
       "mean   2.253767e+07   45.096621    6.377211    4.446591   46.474321   \n",
       "std    4.542512e+07   15.295037    2.355941    0.356258   35.531813   \n",
       "min    2.333000e+03   25.953333    3.428512    3.208590    1.000000   \n",
       "25%    1.942414e+06   33.725000    4.625606    4.204502   24.515000   \n",
       "50%    3.641576e+06   40.130000    5.612187    4.375409   42.130000   \n",
       "75%    6.786807e+06   50.910000    7.272663    4.610568   62.445000   \n",
       "max    1.358460e+08   99.860000   14.812578    6.000000  618.600000   \n",
       "\n",
       "          # atoms  Max atomic num  \n",
       "count  655.000000           655.0  \n",
       "mean    27.267176            53.0  \n",
       "std      5.194422             0.0  \n",
       "min     13.000000            53.0  \n",
       "25%     24.000000            53.0  \n",
       "50%     27.000000            53.0  \n",
       "75%     31.000000            53.0  \n",
       "max     48.000000            53.0  "
      ]
     },
     "execution_count": 16,
     "metadata": {},
     "output_type": "execute_result"
    }
   ],
   "source": [
    "dr_data.describe()"
   ]
  },
  {
   "cell_type": "code",
   "execution_count": 19,
   "id": "0f1b6ad3-a875-46e1-adcc-9ce841a18490",
   "metadata": {},
   "outputs": [
    {
     "data": {
      "text/plain": [
       "array([0.78330016])"
      ]
     },
     "execution_count": 19,
     "metadata": {},
     "output_type": "execute_result"
    }
   ],
   "source": [
    "r = r_regression(dr_data['SD'].to_numpy().reshape(-1, 1), dr_data['DR'])"
   ]
  },
  {
   "cell_type": "code",
   "execution_count": 72,
   "id": "062ef00c-4b06-4cad-a609-2a01c83a4dd0",
   "metadata": {},
   "outputs": [
    {
     "data": {
      "text/html": [
       "<div>\n",
       "<style scoped>\n",
       "    .dataframe tbody tr th:only-of-type {\n",
       "        vertical-align: middle;\n",
       "    }\n",
       "\n",
       "    .dataframe tbody tr th {\n",
       "        vertical-align: top;\n",
       "    }\n",
       "\n",
       "    .dataframe thead th {\n",
       "        text-align: right;\n",
       "    }\n",
       "</style>\n",
       "<table border=\"1\" class=\"dataframe\">\n",
       "  <thead>\n",
       "    <tr style=\"text-align: right;\">\n",
       "      <th></th>\n",
       "      <th>0</th>\n",
       "    </tr>\n",
       "  </thead>\n",
       "  <tbody>\n",
       "    <tr>\n",
       "      <th>count</th>\n",
       "      <td>207096.000000</td>\n",
       "    </tr>\n",
       "    <tr>\n",
       "      <th>mean</th>\n",
       "      <td>1.077867</td>\n",
       "    </tr>\n",
       "    <tr>\n",
       "      <th>std</th>\n",
       "      <td>0.033887</td>\n",
       "    </tr>\n",
       "    <tr>\n",
       "      <th>min</th>\n",
       "      <td>0.857143</td>\n",
       "    </tr>\n",
       "    <tr>\n",
       "      <th>25%</th>\n",
       "      <td>1.052632</td>\n",
       "    </tr>\n",
       "    <tr>\n",
       "      <th>50%</th>\n",
       "      <td>1.080000</td>\n",
       "    </tr>\n",
       "    <tr>\n",
       "      <th>75%</th>\n",
       "      <td>1.100000</td>\n",
       "    </tr>\n",
       "    <tr>\n",
       "      <th>max</th>\n",
       "      <td>1.343750</td>\n",
       "    </tr>\n",
       "  </tbody>\n",
       "</table>\n",
       "</div>"
      ],
      "text/plain": [
       "                   0\n",
       "count  207096.000000\n",
       "mean        1.077867\n",
       "std         0.033887\n",
       "min         0.857143\n",
       "25%         1.052632\n",
       "50%         1.080000\n",
       "75%         1.100000\n",
       "max         1.343750"
      ]
     },
     "execution_count": 72,
     "metadata": {},
     "output_type": "execute_result"
    }
   ],
   "source": [
    "degrees = []\n",
    "for d in dataset:\n",
    "    degree = d.edge_index.shape[1] / (2 * d.x.shape[0])\n",
    "    degrees.append(degree)\n",
    "pd.DataFrame(degrees).describe()"
   ]
  },
  {
   "cell_type": "code",
   "execution_count": null,
   "id": "a2633980-08fc-4ca6-b752-a37c813111c2",
   "metadata": {},
   "outputs": [],
   "source": []
  }
 ],
 "metadata": {
  "kernelspec": {
   "display_name": "Python 3 (ipykernel)",
   "language": "python",
   "name": "python3"
  },
  "language_info": {
   "codemirror_mode": {
    "name": "ipython",
    "version": 3
   },
   "file_extension": ".py",
   "mimetype": "text/x-python",
   "name": "python",
   "nbconvert_exporter": "python",
   "pygments_lexer": "ipython3",
   "version": "3.10.8"
  }
 },
 "nbformat": 4,
 "nbformat_minor": 5
}
