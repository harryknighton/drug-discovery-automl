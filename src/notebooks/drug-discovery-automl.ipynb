{
 "cells": [
  {
   "cell_type": "code",
   "execution_count": 1,
   "id": "4264f525-b3df-46f7-89a5-dc8897b1aa45",
   "metadata": {},
   "outputs": [],
   "source": [
    "%load_ext tensorboard"
   ]
  },
  {
   "cell_type": "code",
   "execution_count": 1,
   "id": "92babac1-d979-459b-ae9c-50d013fb9671",
   "metadata": {},
   "outputs": [],
   "source": [
    "import os\n",
    "import sys\n",
    "module_path = os.path.abspath(os.path.join('../..'))\n",
    "if module_path not in sys.path:\n",
    "    sys.path.append(module_path)"
   ]
  },
  {
   "cell_type": "code",
   "execution_count": 12,
   "id": "2d97ec0c",
   "metadata": {},
   "outputs": [],
   "source": [
    "import hyperopt\n",
    "from hyperopt import hp\n",
    "from hyperopt.pyll.stochastic import sample\n",
    "import numpy as np\n",
    "import pandas as pd\n",
    "import pytorch_lightning as tl\n",
    "import matplotlib.pyplot as plt\n",
    "import scipy as sp\n",
    "import torch\n",
    "from torch_geometric.data import LightningDataset\n",
    "\n",
    "from src.models import GNNLayerType, RegressionLayerType, ActivationFunction, PoolingFunction, ModelArchitecture, GNNArchitecture, build_uniform_gnn_architecture, construct_gnn, construct_mlp\n",
    "from src.config import DEFAULT_N_FEATURES, LOG_DIR, DATA_DIR, RANDOM_SEEDS\n",
    "from src.training import train_model\n",
    "from src.reporting import generate_experiment_dir\n",
    "from src.parameters import HyperParameters\n",
    "from src.data import HTSDataset, split_dataset, DatasetUsage, partition_dataset, MFPCBA\n",
    "from src.metrics import DEFAULT_METRICS"
   ]
  },
  {
   "cell_type": "code",
   "execution_count": 5,
   "id": "f1980f0f-a1ad-4694-bea5-258520a47a1a",
   "metadata": {},
   "outputs": [],
   "source": [
    "dataset = HTSDataset('AID1445', DatasetUsage.DROnly)"
   ]
  },
  {
   "cell_type": "code",
   "execution_count": 14,
   "id": "52eadc03-1352-4356-b74e-097818c2bd42",
   "metadata": {},
   "outputs": [],
   "source": [
    "params = HyperParameters(\n",
    "    random_seed=1424,\n",
    "    use_sd_readouts=False,\n",
    "    dataset_split=MFPCBA(RANDOM_SEEDS['AID1445']),\n",
    "    test_split=0.2,\n",
    "    train_val_split=0.75,\n",
    "    batch_size=32,\n",
    "    early_stop_patience=30,\n",
    "    early_stop_min_delta=0.01,\n",
    "    lr=0.0001,\n",
    "    max_epochs=5,\n",
    "    num_workers=0,\n",
    ")"
   ]
  },
  {
   "cell_type": "code",
   "execution_count": 20,
   "id": "5ecb3b3e-3983-43b4-9cf1-9a19f8cc717e",
   "metadata": {},
   "outputs": [
    {
     "name": "stdout",
     "output_type": "stream",
     "text": [
      "{0, 1, 2, 3, 4, 5, 6, 7, 8, 9, 10, 11, 12, 13, 14, 15, 16, 17, 18, 19, 20, 21, 22, 23, 24, 25, 26, 27, 28, 29, 30, 31, 32, 33, 34, 35, 36, 37, 38, 39, 40, 41, 42, 43, 44, 45, 46, 47, 48, 49, 50, 51, 52, 53, 54, 55, 56, 57, 58, 59, 60, 61, 62, 63, 64, 65, 66, 67, 68, 69, 70, 71, 72, 73, 74, 75, 76, 77, 78, 79, 80, 81, 82, 83, 84, 85, 86, 87, 88, 89, 90, 91, 92, 93, 94, 95, 96, 97, 98, 99, 100, 101, 102, 103, 104, 105, 106, 107, 108, 109, 110, 111, 112, 113, 114, 115, 116, 117, 118, 119, 120, 121, 122, 123, 124, 125, 126, 127, 128, 129, 130, 131, 132, 133, 134, 135, 136, 137, 138, 139, 140, 141, 142, 143, 144, 145, 146, 147, 148, 149, 150, 151, 152, 153, 154, 155, 156, 157, 158, 159, 160, 161, 162, 163, 164, 165, 166, 167, 168, 169, 170, 171, 172, 173, 174, 175, 176, 177, 178, 179, 180, 181, 182, 183, 184, 185, 186, 187, 188, 189, 190, 191, 192, 193, 194, 195, 196, 197, 198, 199, 200, 201, 202, 203, 204, 205, 206, 207, 208, 209, 210, 211, 212, 213, 214, 215, 216, 217, 218, 219, 220, 221, 222, 223, 224, 225, 226, 227, 228, 229, 230, 231, 232, 233, 234, 235, 236, 237, 238, 239, 240, 241, 242, 243, 244, 245, 246, 247, 248, 249, 250, 251, 252, 253, 254, 255, 256, 257, 258, 259, 260, 261, 262, 263, 264, 265, 266, 267, 268, 269, 270, 271, 272, 273, 274, 275, 276, 277, 278, 279, 280, 281, 282, 283, 284, 285, 286, 287, 288, 289, 290, 291, 292, 293, 294, 295, 296, 297, 298, 299, 300, 301, 302, 303, 304, 305, 306, 307, 308, 309, 310, 311, 312, 313, 314, 315, 316, 317, 318, 319, 320, 321, 322, 323, 324, 325, 326, 327, 328, 329, 330, 331, 332, 333, 334, 335, 336, 337, 338, 339, 340, 341, 342, 343, 344, 345, 346, 347, 348, 349, 350, 351, 352, 353, 354, 355, 356, 357, 358, 359, 360, 361, 362, 363, 364, 365, 366, 367, 368, 369, 370, 371, 372, 373, 374, 375, 376, 377, 378, 379, 380, 381, 382, 383, 384, 385, 386, 387, 388, 389, 390, 391, 392, 393, 394, 395, 396, 397, 398, 399, 400, 401, 402, 403, 404, 405, 406, 407, 408, 409, 410, 411, 412, 413, 414, 415, 416, 417, 418, 419, 420, 421, 422, 423, 424, 425, 426, 427, 428, 429, 430, 431, 432, 433, 434, 435, 436, 437, 438, 439, 440, 441, 442, 443, 444, 445, 446, 447, 448, 449, 450, 451, 452, 453, 454, 455, 456, 457, 458, 459, 460, 461, 462, 463, 464, 465, 466, 467, 468, 469, 470, 471, 472, 473, 474, 475, 476, 477, 478, 479, 480, 481, 482, 483, 484, 485, 486, 487, 488, 489, 490, 491, 492, 493, 494, 495, 496, 497, 498, 499, 500, 501, 502, 503, 504, 505, 506, 507, 508, 509, 510, 511, 512, 513, 514, 515, 516, 517, 518, 519, 520, 521, 522, 523, 524, 525, 526, 527, 528, 529, 530, 531, 532, 533, 534, 535, 536, 537, 538, 539, 540, 541, 542, 543, 544, 545, 546, 547, 548, 549, 550, 551, 552, 553, 554, 555, 556, 557, 558, 559, 560, 561, 562, 563, 564, 565, 566, 567, 568, 569, 570, 571, 572, 573, 574, 575, 576, 577, 578, 579, 580, 581, 582, 583, 584, 585, 586, 587, 588, 589, 590, 591, 592, 593, 594, 595, 596, 597, 598, 599, 600, 601, 602, 603, 604, 605, 606, 607, 608, 609, 610, 611, 612, 613, 614, 615, 616, 617, 618, 619, 620, 621, 622, 623, 624, 625, 626, 627, 628, 629, 630, 631, 632, 633, 634, 635, 636, 637, 638, 639, 640, 641, 642, 643, 644, 645, 646, 647, 648, 649, 650, 651, 652, 653, 654}\n",
      "{0, 1, 2, 3, 4, 5, 6, 7, 8, 9, 10, 11, 12, 13, 14, 15, 16, 17, 18, 19, 20, 21, 22, 23, 24, 25, 26, 27, 28, 29, 30, 31, 32, 33, 34, 35, 36, 37, 38, 39, 40, 41, 42, 43, 44, 45, 46, 47, 48, 49, 50, 51, 52, 53, 54, 55, 56, 57, 58, 59, 60, 61, 62, 63, 64, 65, 66, 67, 68, 69, 70, 71, 72, 73, 74, 75, 76, 77, 78, 79, 80, 81, 82, 83, 84, 85, 86, 87, 88, 89, 90, 91, 92, 93, 94, 95, 96, 97, 98, 99, 100, 101, 102, 103, 104, 105, 106, 107, 108, 109, 110, 111, 112, 113, 114, 115, 116, 117, 118, 119, 120, 121, 122, 123, 124, 125, 126, 127, 128, 129, 130, 131, 132, 133, 134, 135, 136, 137, 138, 139, 140, 141, 142, 143, 144, 145, 146, 147, 148, 149, 150, 151, 152, 153, 154, 155, 156, 157, 158, 159, 160, 161, 162, 163, 164, 165, 166, 167, 168, 169, 170, 171, 172, 173, 174, 175, 176, 177, 178, 179, 180, 181, 182, 183, 184, 185, 186, 187, 188, 189, 190, 191, 192, 193, 194, 195, 196, 197, 198, 199, 200, 201, 202, 203, 204, 205, 206, 207, 208, 209, 210, 211, 212, 213, 214, 215, 216, 217, 218, 219, 220, 221, 222, 223, 224, 225, 226, 227, 228, 229, 230, 231, 232, 233, 234, 235, 236, 237, 238, 239, 240, 241, 242, 243, 244, 245, 246, 247, 248, 249, 250, 251, 252, 253, 254, 255, 256, 257, 258, 259, 260, 261, 262, 263, 264, 265, 266, 267, 268, 269, 270, 271, 272, 273, 274, 275, 276, 277, 278, 279, 280, 281, 282, 283, 284, 285, 286, 287, 288, 289, 290, 291, 292, 293, 294, 295, 296, 297, 298, 299, 300, 301, 302, 303, 304, 305, 306, 307, 308, 309, 310, 311, 312, 313, 314, 315, 316, 317, 318, 319, 320, 321, 322, 323, 324, 325, 326, 327, 328, 329, 330, 331, 332, 333, 334, 335, 336, 337, 338, 339, 340, 341, 342, 343, 344, 345, 346, 347, 348, 349, 350, 351, 352, 353, 354, 355, 356, 357, 358, 359, 360, 361, 362, 363, 364, 365, 366, 367, 368, 369, 370, 371, 372, 373, 374, 375, 376, 377, 378, 379, 380, 381, 382, 383, 384, 385, 386, 387, 388, 389, 390, 391, 392, 393, 394, 395, 396, 397, 398, 399, 400, 401, 402, 403, 404, 405, 406, 407, 408, 409, 410, 411, 412, 413, 414, 415, 416, 417, 418, 419, 420, 421, 422, 423, 424, 425, 426, 427, 428, 429, 430, 431, 432, 433, 434, 435, 436, 437, 438, 439, 440, 441, 442, 443, 444, 445, 446, 447, 448, 449, 450, 451, 452, 453, 454, 455, 456, 457, 458, 459, 460, 461, 462, 463, 464, 465, 466, 467, 468, 469, 470, 471, 472, 473, 474, 475, 476, 477, 478, 479, 480, 481, 482, 483, 484, 485, 486, 487, 488, 489, 490, 491, 492, 493, 494, 495, 496, 497, 498, 499, 500, 501, 502, 503, 504, 505, 506, 507, 508, 509, 510, 511, 512, 513, 514, 515, 516, 517, 518, 519, 520, 521, 522, 523, 524, 525, 526, 527, 528, 529, 530, 531, 532, 533, 534, 535, 536, 537, 538, 539, 540, 541, 542, 543, 544, 545, 546, 547, 548, 549, 550, 551, 552, 553, 554, 555, 556, 557, 558, 559, 560, 561, 562, 563, 564, 565, 566, 567, 568, 569, 570, 571, 572, 573, 574, 575, 576, 577, 578, 579, 580, 581, 582, 583, 584, 585, 586, 587, 588, 589, 590, 591, 592, 593, 594, 595, 596, 597, 598, 599, 600, 601, 602, 603, 604, 605, 606, 607, 608, 609, 610, 611, 612, 613, 614, 615, 616, 617, 618, 619, 620, 621, 622, 623, 624, 625, 626, 627, 628, 629, 630, 631, 632, 633, 634, 635, 636, 637, 638, 639, 640, 641, 642, 643, 644, 645, 646, 647, 648, 649, 650, 651, 652, 653, 654}\n",
      "{0, 1, 2, 3, 4, 5, 6, 7, 8, 9, 10, 11, 12, 13, 14, 15, 16, 17, 18, 19, 20, 21, 22, 23, 24, 25, 26, 27, 28, 29, 30, 31, 32, 33, 34, 35, 36, 37, 38, 39, 40, 41, 42, 43, 44, 45, 46, 47, 48, 49, 50, 51, 52, 53, 54, 55, 56, 57, 58, 59, 60, 61, 62, 63, 64, 65, 66, 67, 68, 69, 70, 71, 72, 73, 74, 75, 76, 77, 78, 79, 80, 81, 82, 83, 84, 85, 86, 87, 88, 89, 90, 91, 92, 93, 94, 95, 96, 97, 98, 99, 100, 101, 102, 103, 104, 105, 106, 107, 108, 109, 110, 111, 112, 113, 114, 115, 116, 117, 118, 119, 120, 121, 122, 123, 124, 125, 126, 127, 128, 129, 130, 131, 132, 133, 134, 135, 136, 137, 138, 139, 140, 141, 142, 143, 144, 145, 146, 147, 148, 149, 150, 151, 152, 153, 154, 155, 156, 157, 158, 159, 160, 161, 162, 163, 164, 165, 166, 167, 168, 169, 170, 171, 172, 173, 174, 175, 176, 177, 178, 179, 180, 181, 182, 183, 184, 185, 186, 187, 188, 189, 190, 191, 192, 193, 194, 195, 196, 197, 198, 199, 200, 201, 202, 203, 204, 205, 206, 207, 208, 209, 210, 211, 212, 213, 214, 215, 216, 217, 218, 219, 220, 221, 222, 223, 224, 225, 226, 227, 228, 229, 230, 231, 232, 233, 234, 235, 236, 237, 238, 239, 240, 241, 242, 243, 244, 245, 246, 247, 248, 249, 250, 251, 252, 253, 254, 255, 256, 257, 258, 259, 260, 261, 262, 263, 264, 265, 266, 267, 268, 269, 270, 271, 272, 273, 274, 275, 276, 277, 278, 279, 280, 281, 282, 283, 284, 285, 286, 287, 288, 289, 290, 291, 292, 293, 294, 295, 296, 297, 298, 299, 300, 301, 302, 303, 304, 305, 306, 307, 308, 309, 310, 311, 312, 313, 314, 315, 316, 317, 318, 319, 320, 321, 322, 323, 324, 325, 326, 327, 328, 329, 330, 331, 332, 333, 334, 335, 336, 337, 338, 339, 340, 341, 342, 343, 344, 345, 346, 347, 348, 349, 350, 351, 352, 353, 354, 355, 356, 357, 358, 359, 360, 361, 362, 363, 364, 365, 366, 367, 368, 369, 370, 371, 372, 373, 374, 375, 376, 377, 378, 379, 380, 381, 382, 383, 384, 385, 386, 387, 388, 389, 390, 391, 392, 393, 394, 395, 396, 397, 398, 399, 400, 401, 402, 403, 404, 405, 406, 407, 408, 409, 410, 411, 412, 413, 414, 415, 416, 417, 418, 419, 420, 421, 422, 423, 424, 425, 426, 427, 428, 429, 430, 431, 432, 433, 434, 435, 436, 437, 438, 439, 440, 441, 442, 443, 444, 445, 446, 447, 448, 449, 450, 451, 452, 453, 454, 455, 456, 457, 458, 459, 460, 461, 462, 463, 464, 465, 466, 467, 468, 469, 470, 471, 472, 473, 474, 475, 476, 477, 478, 479, 480, 481, 482, 483, 484, 485, 486, 487, 488, 489, 490, 491, 492, 493, 494, 495, 496, 497, 498, 499, 500, 501, 502, 503, 504, 505, 506, 507, 508, 509, 510, 511, 512, 513, 514, 515, 516, 517, 518, 519, 520, 521, 522, 523, 524, 525, 526, 527, 528, 529, 530, 531, 532, 533, 534, 535, 536, 537, 538, 539, 540, 541, 542, 543, 544, 545, 546, 547, 548, 549, 550, 551, 552, 553, 554, 555, 556, 557, 558, 559, 560, 561, 562, 563, 564, 565, 566, 567, 568, 569, 570, 571, 572, 573, 574, 575, 576, 577, 578, 579, 580, 581, 582, 583, 584, 585, 586, 587, 588, 589, 590, 591, 592, 593, 594, 595, 596, 597, 598, 599, 600, 601, 602, 603, 604, 605, 606, 607, 608, 609, 610, 611, 612, 613, 614, 615, 616, 617, 618, 619, 620, 621, 622, 623, 624, 625, 626, 627, 628, 629, 630, 631, 632, 633, 634, 635, 636, 637, 638, 639, 640, 641, 642, 643, 644, 645, 646, 647, 648, 649, 650, 651, 652, 653, 654}\n",
      "{0, 1, 2, 3, 4, 5, 6, 7, 8, 9, 10, 11, 12, 13, 14, 15, 16, 17, 18, 19, 20, 21, 22, 23, 24, 25, 26, 27, 28, 29, 30, 31, 32, 33, 34, 35, 36, 37, 38, 39, 40, 41, 42, 43, 44, 45, 46, 47, 48, 49, 50, 51, 52, 53, 54, 55, 56, 57, 58, 59, 60, 61, 62, 63, 64, 65, 66, 67, 68, 69, 70, 71, 72, 73, 74, 75, 76, 77, 78, 79, 80, 81, 82, 83, 84, 85, 86, 87, 88, 89, 90, 91, 92, 93, 94, 95, 96, 97, 98, 99, 100, 101, 102, 103, 104, 105, 106, 107, 108, 109, 110, 111, 112, 113, 114, 115, 116, 117, 118, 119, 120, 121, 122, 123, 124, 125, 126, 127, 128, 129, 130, 131, 132, 133, 134, 135, 136, 137, 138, 139, 140, 141, 142, 143, 144, 145, 146, 147, 148, 149, 150, 151, 152, 153, 154, 155, 156, 157, 158, 159, 160, 161, 162, 163, 164, 165, 166, 167, 168, 169, 170, 171, 172, 173, 174, 175, 176, 177, 178, 179, 180, 181, 182, 183, 184, 185, 186, 187, 188, 189, 190, 191, 192, 193, 194, 195, 196, 197, 198, 199, 200, 201, 202, 203, 204, 205, 206, 207, 208, 209, 210, 211, 212, 213, 214, 215, 216, 217, 218, 219, 220, 221, 222, 223, 224, 225, 226, 227, 228, 229, 230, 231, 232, 233, 234, 235, 236, 237, 238, 239, 240, 241, 242, 243, 244, 245, 246, 247, 248, 249, 250, 251, 252, 253, 254, 255, 256, 257, 258, 259, 260, 261, 262, 263, 264, 265, 266, 267, 268, 269, 270, 271, 272, 273, 274, 275, 276, 277, 278, 279, 280, 281, 282, 283, 284, 285, 286, 287, 288, 289, 290, 291, 292, 293, 294, 295, 296, 297, 298, 299, 300, 301, 302, 303, 304, 305, 306, 307, 308, 309, 310, 311, 312, 313, 314, 315, 316, 317, 318, 319, 320, 321, 322, 323, 324, 325, 326, 327, 328, 329, 330, 331, 332, 333, 334, 335, 336, 337, 338, 339, 340, 341, 342, 343, 344, 345, 346, 347, 348, 349, 350, 351, 352, 353, 354, 355, 356, 357, 358, 359, 360, 361, 362, 363, 364, 365, 366, 367, 368, 369, 370, 371, 372, 373, 374, 375, 376, 377, 378, 379, 380, 381, 382, 383, 384, 385, 386, 387, 388, 389, 390, 391, 392, 393, 394, 395, 396, 397, 398, 399, 400, 401, 402, 403, 404, 405, 406, 407, 408, 409, 410, 411, 412, 413, 414, 415, 416, 417, 418, 419, 420, 421, 422, 423, 424, 425, 426, 427, 428, 429, 430, 431, 432, 433, 434, 435, 436, 437, 438, 439, 440, 441, 442, 443, 444, 445, 446, 447, 448, 449, 450, 451, 452, 453, 454, 455, 456, 457, 458, 459, 460, 461, 462, 463, 464, 465, 466, 467, 468, 469, 470, 471, 472, 473, 474, 475, 476, 477, 478, 479, 480, 481, 482, 483, 484, 485, 486, 487, 488, 489, 490, 491, 492, 493, 494, 495, 496, 497, 498, 499, 500, 501, 502, 503, 504, 505, 506, 507, 508, 509, 510, 511, 512, 513, 514, 515, 516, 517, 518, 519, 520, 521, 522, 523, 524, 525, 526, 527, 528, 529, 530, 531, 532, 533, 534, 535, 536, 537, 538, 539, 540, 541, 542, 543, 544, 545, 546, 547, 548, 549, 550, 551, 552, 553, 554, 555, 556, 557, 558, 559, 560, 561, 562, 563, 564, 565, 566, 567, 568, 569, 570, 571, 572, 573, 574, 575, 576, 577, 578, 579, 580, 581, 582, 583, 584, 585, 586, 587, 588, 589, 590, 591, 592, 593, 594, 595, 596, 597, 598, 599, 600, 601, 602, 603, 604, 605, 606, 607, 608, 609, 610, 611, 612, 613, 614, 615, 616, 617, 618, 619, 620, 621, 622, 623, 624, 625, 626, 627, 628, 629, 630, 631, 632, 633, 634, 635, 636, 637, 638, 639, 640, 641, 642, 643, 644, 645, 646, 647, 648, 649, 650, 651, 652, 653, 654}\n",
      "{0, 1, 2, 3, 4, 5, 6, 7, 8, 9, 10, 11, 12, 13, 14, 15, 16, 17, 18, 19, 20, 21, 22, 23, 24, 25, 26, 27, 28, 29, 30, 31, 32, 33, 34, 35, 36, 37, 38, 39, 40, 41, 42, 43, 44, 45, 46, 47, 48, 49, 50, 51, 52, 53, 54, 55, 56, 57, 58, 59, 60, 61, 62, 63, 64, 65, 66, 67, 68, 69, 70, 71, 72, 73, 74, 75, 76, 77, 78, 79, 80, 81, 82, 83, 84, 85, 86, 87, 88, 89, 90, 91, 92, 93, 94, 95, 96, 97, 98, 99, 100, 101, 102, 103, 104, 105, 106, 107, 108, 109, 110, 111, 112, 113, 114, 115, 116, 117, 118, 119, 120, 121, 122, 123, 124, 125, 126, 127, 128, 129, 130, 131, 132, 133, 134, 135, 136, 137, 138, 139, 140, 141, 142, 143, 144, 145, 146, 147, 148, 149, 150, 151, 152, 153, 154, 155, 156, 157, 158, 159, 160, 161, 162, 163, 164, 165, 166, 167, 168, 169, 170, 171, 172, 173, 174, 175, 176, 177, 178, 179, 180, 181, 182, 183, 184, 185, 186, 187, 188, 189, 190, 191, 192, 193, 194, 195, 196, 197, 198, 199, 200, 201, 202, 203, 204, 205, 206, 207, 208, 209, 210, 211, 212, 213, 214, 215, 216, 217, 218, 219, 220, 221, 222, 223, 224, 225, 226, 227, 228, 229, 230, 231, 232, 233, 234, 235, 236, 237, 238, 239, 240, 241, 242, 243, 244, 245, 246, 247, 248, 249, 250, 251, 252, 253, 254, 255, 256, 257, 258, 259, 260, 261, 262, 263, 264, 265, 266, 267, 268, 269, 270, 271, 272, 273, 274, 275, 276, 277, 278, 279, 280, 281, 282, 283, 284, 285, 286, 287, 288, 289, 290, 291, 292, 293, 294, 295, 296, 297, 298, 299, 300, 301, 302, 303, 304, 305, 306, 307, 308, 309, 310, 311, 312, 313, 314, 315, 316, 317, 318, 319, 320, 321, 322, 323, 324, 325, 326, 327, 328, 329, 330, 331, 332, 333, 334, 335, 336, 337, 338, 339, 340, 341, 342, 343, 344, 345, 346, 347, 348, 349, 350, 351, 352, 353, 354, 355, 356, 357, 358, 359, 360, 361, 362, 363, 364, 365, 366, 367, 368, 369, 370, 371, 372, 373, 374, 375, 376, 377, 378, 379, 380, 381, 382, 383, 384, 385, 386, 387, 388, 389, 390, 391, 392, 393, 394, 395, 396, 397, 398, 399, 400, 401, 402, 403, 404, 405, 406, 407, 408, 409, 410, 411, 412, 413, 414, 415, 416, 417, 418, 419, 420, 421, 422, 423, 424, 425, 426, 427, 428, 429, 430, 431, 432, 433, 434, 435, 436, 437, 438, 439, 440, 441, 442, 443, 444, 445, 446, 447, 448, 449, 450, 451, 452, 453, 454, 455, 456, 457, 458, 459, 460, 461, 462, 463, 464, 465, 466, 467, 468, 469, 470, 471, 472, 473, 474, 475, 476, 477, 478, 479, 480, 481, 482, 483, 484, 485, 486, 487, 488, 489, 490, 491, 492, 493, 494, 495, 496, 497, 498, 499, 500, 501, 502, 503, 504, 505, 506, 507, 508, 509, 510, 511, 512, 513, 514, 515, 516, 517, 518, 519, 520, 521, 522, 523, 524, 525, 526, 527, 528, 529, 530, 531, 532, 533, 534, 535, 536, 537, 538, 539, 540, 541, 542, 543, 544, 545, 546, 547, 548, 549, 550, 551, 552, 553, 554, 555, 556, 557, 558, 559, 560, 561, 562, 563, 564, 565, 566, 567, 568, 569, 570, 571, 572, 573, 574, 575, 576, 577, 578, 579, 580, 581, 582, 583, 584, 585, 586, 587, 588, 589, 590, 591, 592, 593, 594, 595, 596, 597, 598, 599, 600, 601, 602, 603, 604, 605, 606, 607, 608, 609, 610, 611, 612, 613, 614, 615, 616, 617, 618, 619, 620, 621, 622, 623, 624, 625, 626, 627, 628, 629, 630, 631, 632, 633, 634, 635, 636, 637, 638, 639, 640, 641, 642, 643, 644, 645, 646, 647, 648, 649, 650, 651, 652, 653, 654}\n"
     ]
    }
   ],
   "source": [
    "for train, val, test in partition_dataset(dataset, params):\n",
    "    "
   ]
  },
  {
   "cell_type": "code",
   "execution_count": 9,
   "id": "120ad95b-63ae-484d-8678-1daac7e33d8b",
   "metadata": {},
   "outputs": [
    {
     "data": {
      "text/plain": [
       "MetricCollection(\n",
       "  (MeanAbsoluteError): MeanAbsoluteError()\n",
       "  (RootMeanSquaredError): RootMeanSquaredError()\n",
       "  (MaxError): MaxError()\n",
       "  (PearsonCorrCoefSquared): PearsonCorrCoefSquared()\n",
       "  (R2Score): R2Score()\n",
       ")"
      ]
     },
     "execution_count": 9,
     "metadata": {},
     "output_type": "execute_result"
    }
   ],
   "source": [
    "DEFAULT_METRICS"
   ]
  },
  {
   "cell_type": "markdown",
   "id": "544046e1-a47a-4de7-8158-3d6968c8743a",
   "metadata": {},
   "source": [
    "## Extension 2 - HyperOpt"
   ]
  },
  {
   "cell_type": "code",
   "execution_count": 12,
   "id": "09b7825f-1ebb-40c8-b29d-c5c016746788",
   "metadata": {},
   "outputs": [],
   "source": [
    "def create_gnn_architecture(space):\n",
    "    layers = space['layers']\n",
    "    regression_architecture = ModelArchitecture(\n",
    "        layer_types=[RegressionLayerType.Linear],\n",
    "        features=[int(layers['hidden_features']), 1],\n",
    "        activation_funcs=[None],\n",
    "        batch_normalise=[False]\n",
    "    )\n",
    "    return GNNArchitecture(\n",
    "        layer_types=layers['layer_types'],\n",
    "        features=[DEFAULT_N_FEATURES] + [int(layers['hidden_features'])] * layers['num'],\n",
    "        activation_funcs=layers['activation_funcs'],\n",
    "        batch_normalise=[space['batch_normalise']] * layers['num'],\n",
    "        pool_func=space['pool_func'],\n",
    "        regression_layer=regression_architecture\n",
    "    )"
   ]
  },
  {
   "cell_type": "code",
   "execution_count": 4,
   "id": "eb8c1adc-0599-49d9-bdcc-1a946d4774ca",
   "metadata": {},
   "outputs": [],
   "source": [
    "def prepare_objective(dataset_name, params, experiment_dir):\n",
    "    dataset_dir = DATA_DIR / dataset_name\n",
    "    dataset = HTSDataset(dataset_dir, 'DR')\n",
    "    test_dataset, training_dataset = split_dataset(dataset, params.test_split)\n",
    "    train_dataset, val_dataset = split_dataset(dataset, params.train_val_split)\n",
    "    datamodule = LightningDataset(train_dataset, val_dataset, test_dataset, batch_size=params.batch_size, num_workers=NUM_WORKERS)\n",
    "    \n",
    "    def objective(x):\n",
    "        run_dir = experiment_dir / f'version_{objective.version}'\n",
    "        architecture = create_gnn_architecture(x)\n",
    "        print(architecture.layer_types)\n",
    "        print(type(architecture.layer_types))\n",
    "        result = train_model(architecture, params, datamodule, run_dir)\n",
    "        return {'loss': result['RootMeanSquaredError'], 'status': hyperopt.STATUS_OK}\n",
    "    \n",
    "    objective.version = 0\n",
    "    return objective\n",
    "\n",
    "                \n",
    "def run_hyperopt(dataset_name, search_space, params, max_evals, experiment_name):\n",
    "    experiment_dir = LOG_DIR / generate_experiment_dir(dataset_name, params.use_sd_readouts, 'hyperopt' + experiment_name)\n",
    "    objective = prepare_objective(dataset_name, params, experiment_dir)\n",
    "    best = hyperopt.fmin(\n",
    "        fn=objective,\n",
    "        space=search_space,\n",
    "        algo=hyperopt.tpe.suggest,\n",
    "        max_evals=max_evals\n",
    "    )\n",
    "    print(hyperopt.space_eval(search_space, best))\n",
    "    "
   ]
  },
  {
   "cell_type": "code",
   "execution_count": 13,
   "id": "6d55764a-c732-426a-a0bc-44f309cee087",
   "metadata": {},
   "outputs": [
    {
     "name": "stdout",
     "output_type": "stream",
     "text": [
      "(<GNNLayerType.GCN: <class 'torch_geometric.nn.conv.gcn_conv.GCNConv'>>, <GNNLayerType.GCN: <class 'torch_geometric.nn.conv.gcn_conv.GCNConv'>>)                                                                                       \n",
      "<class 'tuple'>                                                                                                                                                                                                                        \n",
      "  0%|                                                                                                                                                                                           | 0/10 [00:00<?, ?trial/s, best loss=?]"
     ]
    },
    {
     "name": "stderr",
     "output_type": "stream",
     "text": [
      "GPU available: True (cuda), used: True\n",
      "TPU available: False, using: 0 TPU cores\n",
      "IPU available: False, using: 0 IPUs\n",
      "HPU available: False, using: 0 HPUs\n",
      "LOCAL_RANK: 0 - CUDA_VISIBLE_DEVICES: [0]\n",
      "\n",
      "  | Name           | Type              | Params\n",
      "-----------------------------------------------------\n",
      "0 | gnn            | Sequential_7970c8 | 11.5 K\n",
      "1 | regression_mlp | Sequential        | 65    \n",
      "2 | loss           | MSELoss           | 0     \n",
      "3 | val_metrics    | MetricCollection  | 0     \n",
      "4 | test_metrics   | MetricCollection  | 0     \n",
      "-----------------------------------------------------\n",
      "11.5 K    Trainable params\n",
      "0         Non-trainable params\n",
      "11.5 K    Total params\n",
      "0.046     Total estimated model params size (MB)\n",
      "C:\\Users\\MrMil\\miniconda3\\envs\\automl-drug-discovery\\lib\\site-packages\\pytorch_lightning\\trainer\\connectors\\data_connector.py:224: PossibleUserWarning: The dataloader, val_dataloader 0, does not have many workers which may be a bottleneck. Consider increasing the value of the `num_workers` argument` (try 16 which is the number of cpus on this machine) in the `DataLoader` init to improve performance.\n",
      "  rank_zero_warn(\n",
      "\n",
      "C:\\Users\\MrMil\\miniconda3\\envs\\automl-drug-discovery\\lib\\site-packages\\pytorch_lightning\\trainer\\connectors\\data_connector.py:224: PossibleUserWarning: The dataloader, train_dataloader, does not have many workers which may be a bottleneck. Consider increasing the value of the `num_workers` argument` (try 16 which is the number of cpus on this machine) in the `DataLoader` init to improve performance.\n",
      "  rank_zero_warn(\n",
      "\n",
      "`Trainer.fit` stopped: `max_epochs=5` reached.\n",
      "Restoring states from the checkpoint path at C:\\Users\\MrMil\\dev\\automl-drug-discovery\\logs\\AID1445\\DR\\hyperoptsimple2layer\\version_0\\lightning_logs\\version_1\\checkpoints\\epoch=04-loss/val=0.79.ckpt\n",
      "LOCAL_RANK: 0 - CUDA_VISIBLE_DEVICES: [0]\n",
      "Loaded model weights from checkpoint at C:\\Users\\MrMil\\dev\\automl-drug-discovery\\logs\\AID1445\\DR\\hyperoptsimple2layer\\version_0\\lightning_logs\\version_1\\checkpoints\\epoch=04-loss/val=0.79.ckpt\n",
      "C:\\Users\\MrMil\\miniconda3\\envs\\automl-drug-discovery\\lib\\site-packages\\pytorch_lightning\\trainer\\connectors\\data_connector.py:224: PossibleUserWarning: The dataloader, test_dataloader 0, does not have many workers which may be a bottleneck. Consider increasing the value of the `num_workers` argument` (try 16 which is the number of cpus on this machine) in the `DataLoader` init to improve performance.\n",
      "  rank_zero_warn(\n",
      "\n"
     ]
    },
    {
     "name": "stdout",
     "output_type": "stream",
     "text": [
      "(<GNNLayerType.GCN: <class 'torch_geometric.nn.conv.gcn_conv.GCNConv'>>, <GNNLayerType.GCN: <class 'torch_geometric.nn.conv.gcn_conv.GCNConv'>>)                                                                                       \n",
      "<class 'tuple'>                                                                                                                                                                                                                        \n",
      " 10%|████████████████                                                                                                                                                 | 1/10 [00:05<00:45,  5.11s/trial, best loss: 0.9604218006134033]"
     ]
    },
    {
     "name": "stderr",
     "output_type": "stream",
     "text": [
      "GPU available: True (cuda), used: True\n",
      "TPU available: False, using: 0 TPU cores\n",
      "IPU available: False, using: 0 IPUs\n",
      "HPU available: False, using: 0 HPUs\n",
      "LOCAL_RANK: 0 - CUDA_VISIBLE_DEVICES: [0]\n",
      "\n",
      "  | Name           | Type              | Params\n",
      "-----------------------------------------------------\n",
      "0 | gnn            | Sequential_7c7aac | 7.8 K \n",
      "1 | regression_mlp | Sequential        | 49    \n",
      "2 | loss           | MSELoss           | 0     \n",
      "3 | val_metrics    | MetricCollection  | 0     \n",
      "4 | test_metrics   | MetricCollection  | 0     \n",
      "-----------------------------------------------------\n",
      "7.9 K     Trainable params\n",
      "0         Non-trainable params\n",
      "7.9 K     Total params\n",
      "0.031     Total estimated model params size (MB)\n",
      "`Trainer.fit` stopped: `max_epochs=5` reached.\n",
      "Restoring states from the checkpoint path at C:\\Users\\MrMil\\dev\\automl-drug-discovery\\logs\\AID1445\\DR\\hyperoptsimple2layer\\version_0\\lightning_logs\\version_2\\checkpoints\\epoch=04-loss/val=3.74.ckpt\n",
      "LOCAL_RANK: 0 - CUDA_VISIBLE_DEVICES: [0]\n",
      "Loaded model weights from checkpoint at C:\\Users\\MrMil\\dev\\automl-drug-discovery\\logs\\AID1445\\DR\\hyperoptsimple2layer\\version_0\\lightning_logs\\version_2\\checkpoints\\epoch=04-loss/val=3.74.ckpt\n"
     ]
    },
    {
     "name": "stdout",
     "output_type": "stream",
     "text": [
      "(<GNNLayerType.GAT: <class 'torch_geometric.nn.conv.gat_conv.GATConv'>>, <GNNLayerType.GAT: <class 'torch_geometric.nn.conv.gat_conv.GATConv'>>)                                                                                       \n",
      "<class 'tuple'>                                                                                                                                                                                                                        \n",
      " 20%|████████████████████████████████▏                                                                                                                                | 2/10 [00:09<00:36,  4.58s/trial, best loss: 0.9604218006134033]"
     ]
    },
    {
     "name": "stderr",
     "output_type": "stream",
     "text": [
      "GPU available: True (cuda), used: True\n",
      "TPU available: False, using: 0 TPU cores\n",
      "IPU available: False, using: 0 IPUs\n",
      "HPU available: False, using: 0 HPUs\n",
      "LOCAL_RANK: 0 - CUDA_VISIBLE_DEVICES: [0]\n",
      "\n",
      "  | Name           | Type              | Params\n",
      "-----------------------------------------------------\n",
      "0 | gnn            | Sequential_7efbe7 | 13.8 K\n",
      "1 | regression_mlp | Sequential        | 73    \n",
      "2 | loss           | MSELoss           | 0     \n",
      "3 | val_metrics    | MetricCollection  | 0     \n",
      "4 | test_metrics   | MetricCollection  | 0     \n",
      "-----------------------------------------------------\n",
      "13.8 K    Trainable params\n",
      "0         Non-trainable params\n",
      "13.8 K    Total params\n",
      "0.055     Total estimated model params size (MB)\n",
      "`Trainer.fit` stopped: `max_epochs=5` reached.\n",
      "Restoring states from the checkpoint path at C:\\Users\\MrMil\\dev\\automl-drug-discovery\\logs\\AID1445\\DR\\hyperoptsimple2layer\\version_0\\lightning_logs\\version_3\\checkpoints\\epoch=03-loss/val=0.76.ckpt\n",
      "LOCAL_RANK: 0 - CUDA_VISIBLE_DEVICES: [0]\n",
      "Loaded model weights from checkpoint at C:\\Users\\MrMil\\dev\\automl-drug-discovery\\logs\\AID1445\\DR\\hyperoptsimple2layer\\version_0\\lightning_logs\\version_3\\checkpoints\\epoch=03-loss/val=0.76.ckpt\n"
     ]
    },
    {
     "name": "stdout",
     "output_type": "stream",
     "text": [
      "(<GNNLayerType.GAT: <class 'torch_geometric.nn.conv.gat_conv.GATConv'>>, <GNNLayerType.GCN: <class 'torch_geometric.nn.conv.gcn_conv.GCNConv'>>)                                                                                       \n",
      "<class 'tuple'>                                                                                                                                                                                                                        \n",
      " 30%|████████████████████████████████████████████████▎                                                                                                                | 3/10 [00:14<00:35,  5.02s/trial, best loss: 0.9604218006134033]"
     ]
    },
    {
     "name": "stderr",
     "output_type": "stream",
     "text": [
      "GPU available: True (cuda), used: True\n",
      "TPU available: False, using: 0 TPU cores\n",
      "IPU available: False, using: 0 IPUs\n",
      "HPU available: False, using: 0 HPUs\n",
      "LOCAL_RANK: 0 - CUDA_VISIBLE_DEVICES: [0]\n",
      "\n",
      "  | Name           | Type              | Params\n",
      "-----------------------------------------------------\n",
      "0 | gnn            | Sequential_824c48 | 96.5 K\n",
      "1 | regression_mlp | Sequential        | 257   \n",
      "2 | loss           | MSELoss           | 0     \n",
      "3 | val_metrics    | MetricCollection  | 0     \n",
      "4 | test_metrics   | MetricCollection  | 0     \n",
      "-----------------------------------------------------\n",
      "96.8 K    Trainable params\n",
      "0         Non-trainable params\n",
      "96.8 K    Total params\n",
      "0.387     Total estimated model params size (MB)\n",
      "`Trainer.fit` stopped: `max_epochs=5` reached.\n",
      "Restoring states from the checkpoint path at C:\\Users\\MrMil\\dev\\automl-drug-discovery\\logs\\AID1445\\DR\\hyperoptsimple2layer\\version_0\\lightning_logs\\version_4\\checkpoints\\epoch=03-loss/val=19.26.ckpt\n",
      "LOCAL_RANK: 0 - CUDA_VISIBLE_DEVICES: [0]\n",
      "Loaded model weights from checkpoint at C:\\Users\\MrMil\\dev\\automl-drug-discovery\\logs\\AID1445\\DR\\hyperoptsimple2layer\\version_0\\lightning_logs\\version_4\\checkpoints\\epoch=03-loss/val=19.26.ckpt\n"
     ]
    },
    {
     "name": "stdout",
     "output_type": "stream",
     "text": [
      "(<GNNLayerType.GAT: <class 'torch_geometric.nn.conv.gat_conv.GATConv'>>, <GNNLayerType.GAT: <class 'torch_geometric.nn.conv.gat_conv.GATConv'>>)                                                                                       \n",
      "<class 'tuple'>                                                                                                                                                                                                                        \n",
      " 40%|████████████████████████████████████████████████████████████████▍                                                                                                | 4/10 [00:22<00:35,  5.96s/trial, best loss: 0.9604218006134033]"
     ]
    },
    {
     "name": "stderr",
     "output_type": "stream",
     "text": [
      "GPU available: True (cuda), used: True\n",
      "TPU available: False, using: 0 TPU cores\n",
      "IPU available: False, using: 0 IPUs\n",
      "HPU available: False, using: 0 HPUs\n",
      "LOCAL_RANK: 0 - CUDA_VISIBLE_DEVICES: [0]\n",
      "\n",
      "  | Name           | Type              | Params\n",
      "-----------------------------------------------------\n",
      "0 | gnn            | Sequential_86bbb3 | 4.8 K \n",
      "1 | regression_mlp | Sequential        | 33    \n",
      "2 | loss           | MSELoss           | 0     \n",
      "3 | val_metrics    | MetricCollection  | 0     \n",
      "4 | test_metrics   | MetricCollection  | 0     \n",
      "-----------------------------------------------------\n",
      "4.9 K     Trainable params\n",
      "0         Non-trainable params\n",
      "4.9 K     Total params\n",
      "0.019     Total estimated model params size (MB)\n",
      "`Trainer.fit` stopped: `max_epochs=5` reached.\n",
      "Restoring states from the checkpoint path at C:\\Users\\MrMil\\dev\\automl-drug-discovery\\logs\\AID1445\\DR\\hyperoptsimple2layer\\version_0\\lightning_logs\\version_5\\checkpoints\\epoch=04-loss/val=20.00.ckpt\n",
      "LOCAL_RANK: 0 - CUDA_VISIBLE_DEVICES: [0]\n",
      "Loaded model weights from checkpoint at C:\\Users\\MrMil\\dev\\automl-drug-discovery\\logs\\AID1445\\DR\\hyperoptsimple2layer\\version_0\\lightning_logs\\version_5\\checkpoints\\epoch=04-loss/val=20.00.ckpt\n"
     ]
    },
    {
     "name": "stdout",
     "output_type": "stream",
     "text": [
      "(<GNNLayerType.GCN: <class 'torch_geometric.nn.conv.gcn_conv.GCNConv'>>, <GNNLayerType.GCN: <class 'torch_geometric.nn.conv.gcn_conv.GCNConv'>>)                                                                                       \n",
      "<class 'tuple'>                                                                                                                                                                                                                        \n",
      " 50%|████████████████████████████████████████████████████████████████████████████████▌                                                                                | 5/10 [00:27<00:28,  5.78s/trial, best loss: 0.9604218006134033]"
     ]
    },
    {
     "name": "stderr",
     "output_type": "stream",
     "text": [
      "GPU available: True (cuda), used: True\n",
      "TPU available: False, using: 0 TPU cores\n",
      "IPU available: False, using: 0 IPUs\n",
      "HPU available: False, using: 0 HPUs\n",
      "LOCAL_RANK: 0 - CUDA_VISIBLE_DEVICES: [0]\n",
      "\n",
      "  | Name           | Type              | Params\n",
      "-----------------------------------------------------\n",
      "0 | gnn            | Sequential_89f5f2 | 63.0 K\n",
      "1 | regression_mlp | Sequential        | 201   \n",
      "2 | loss           | MSELoss           | 0     \n",
      "3 | val_metrics    | MetricCollection  | 0     \n",
      "4 | test_metrics   | MetricCollection  | 0     \n",
      "-----------------------------------------------------\n",
      "63.2 K    Trainable params\n",
      "0         Non-trainable params\n",
      "63.2 K    Total params\n",
      "0.253     Total estimated model params size (MB)\n",
      "`Trainer.fit` stopped: `max_epochs=5` reached.\n",
      "Restoring states from the checkpoint path at C:\\Users\\MrMil\\dev\\automl-drug-discovery\\logs\\AID1445\\DR\\hyperoptsimple2layer\\version_0\\lightning_logs\\version_6\\checkpoints\\epoch=04-loss/val=12.46.ckpt\n",
      "LOCAL_RANK: 0 - CUDA_VISIBLE_DEVICES: [0]\n",
      "Loaded model weights from checkpoint at C:\\Users\\MrMil\\dev\\automl-drug-discovery\\logs\\AID1445\\DR\\hyperoptsimple2layer\\version_0\\lightning_logs\\version_6\\checkpoints\\epoch=04-loss/val=12.46.ckpt\n"
     ]
    },
    {
     "name": "stdout",
     "output_type": "stream",
     "text": [
      "(<GNNLayerType.GCN: <class 'torch_geometric.nn.conv.gcn_conv.GCNConv'>>, <GNNLayerType.GAT: <class 'torch_geometric.nn.conv.gat_conv.GATConv'>>)                                                                                       \n",
      "<class 'tuple'>                                                                                                                                                                                                                        \n",
      " 60%|████████████████████████████████████████████████████████████████████████████████████████████████▌                                                                | 6/10 [00:33<00:23,  5.75s/trial, best loss: 0.9604218006134033]"
     ]
    },
    {
     "name": "stderr",
     "output_type": "stream",
     "text": [
      "GPU available: True (cuda), used: True\n",
      "TPU available: False, using: 0 TPU cores\n",
      "IPU available: False, using: 0 IPUs\n",
      "HPU available: False, using: 0 HPUs\n",
      "LOCAL_RANK: 0 - CUDA_VISIBLE_DEVICES: [0]\n",
      "\n",
      "  | Name           | Type              | Params\n",
      "-----------------------------------------------------\n",
      "0 | gnn            | Sequential_8d5aa3 | 34.4 K\n",
      "1 | regression_mlp | Sequential        | 137   \n",
      "2 | loss           | MSELoss           | 0     \n",
      "3 | val_metrics    | MetricCollection  | 0     \n",
      "4 | test_metrics   | MetricCollection  | 0     \n",
      "-----------------------------------------------------\n",
      "34.5 K    Trainable params\n",
      "0         Non-trainable params\n",
      "34.5 K    Total params\n",
      "0.138     Total estimated model params size (MB)\n",
      "`Trainer.fit` stopped: `max_epochs=5` reached.\n",
      "Restoring states from the checkpoint path at C:\\Users\\MrMil\\dev\\automl-drug-discovery\\logs\\AID1445\\DR\\hyperoptsimple2layer\\version_0\\lightning_logs\\version_7\\checkpoints\\epoch=04-loss/val=16.10.ckpt\n",
      "LOCAL_RANK: 0 - CUDA_VISIBLE_DEVICES: [0]\n",
      "Loaded model weights from checkpoint at C:\\Users\\MrMil\\dev\\automl-drug-discovery\\logs\\AID1445\\DR\\hyperoptsimple2layer\\version_0\\lightning_logs\\version_7\\checkpoints\\epoch=04-loss/val=16.10.ckpt\n"
     ]
    },
    {
     "name": "stdout",
     "output_type": "stream",
     "text": [
      "(<GNNLayerType.GCN: <class 'torch_geometric.nn.conv.gcn_conv.GCNConv'>>, <GNNLayerType.GCN: <class 'torch_geometric.nn.conv.gcn_conv.GCNConv'>>)                                                                                       \n",
      "<class 'tuple'>                                                                                                                                                                                                                        \n",
      " 70%|████████████████████████████████████████████████████████████████████████████████████████████████████████████████▋                                                | 7/10 [00:38<00:16,  5.59s/trial, best loss: 0.9604218006134033]"
     ]
    },
    {
     "name": "stderr",
     "output_type": "stream",
     "text": [
      "GPU available: True (cuda), used: True\n",
      "TPU available: False, using: 0 TPU cores\n",
      "IPU available: False, using: 0 IPUs\n",
      "HPU available: False, using: 0 HPUs\n",
      "LOCAL_RANK: 0 - CUDA_VISIBLE_DEVICES: [0]\n",
      "\n",
      "  | Name           | Type              | Params\n",
      "-----------------------------------------------------\n",
      "0 | gnn            | Sequential_907cdf | 75.9 K\n",
      "1 | regression_mlp | Sequential        | 225   \n",
      "2 | loss           | MSELoss           | 0     \n",
      "3 | val_metrics    | MetricCollection  | 0     \n",
      "4 | test_metrics   | MetricCollection  | 0     \n",
      "-----------------------------------------------------\n",
      "76.2 K    Trainable params\n",
      "0         Non-trainable params\n",
      "76.2 K    Total params\n",
      "0.305     Total estimated model params size (MB)\n",
      "`Trainer.fit` stopped: `max_epochs=5` reached.\n",
      "Restoring states from the checkpoint path at C:\\Users\\MrMil\\dev\\automl-drug-discovery\\logs\\AID1445\\DR\\hyperoptsimple2layer\\version_0\\lightning_logs\\version_8\\checkpoints\\epoch=04-loss/val=0.80.ckpt\n",
      "LOCAL_RANK: 0 - CUDA_VISIBLE_DEVICES: [0]\n",
      "Loaded model weights from checkpoint at C:\\Users\\MrMil\\dev\\automl-drug-discovery\\logs\\AID1445\\DR\\hyperoptsimple2layer\\version_0\\lightning_logs\\version_8\\checkpoints\\epoch=04-loss/val=0.80.ckpt\n"
     ]
    },
    {
     "name": "stdout",
     "output_type": "stream",
     "text": [
      "(<GNNLayerType.GAT: <class 'torch_geometric.nn.conv.gat_conv.GATConv'>>, <GNNLayerType.GCN: <class 'torch_geometric.nn.conv.gcn_conv.GCNConv'>>)                                                                                       \n",
      "<class 'tuple'>                                                                                                                                                                                                                        \n",
      " 80%|████████████████████████████████████████████████████████████████████████████████████████████████████████████████████████████████▊                                | 8/10 [00:44<00:11,  5.61s/trial, best loss: 0.9565171003341675]"
     ]
    },
    {
     "name": "stderr",
     "output_type": "stream",
     "text": [
      "GPU available: True (cuda), used: True\n",
      "TPU available: False, using: 0 TPU cores\n",
      "IPU available: False, using: 0 IPUs\n",
      "HPU available: False, using: 0 HPUs\n",
      "LOCAL_RANK: 0 - CUDA_VISIBLE_DEVICES: [0]\n",
      "\n",
      "  | Name           | Type              | Params\n",
      "-----------------------------------------------------\n",
      "0 | gnn            | Sequential_93dcf4 | 18.0 K\n",
      "1 | regression_mlp | Sequential        | 89    \n",
      "2 | loss           | MSELoss           | 0     \n",
      "3 | val_metrics    | MetricCollection  | 0     \n",
      "4 | test_metrics   | MetricCollection  | 0     \n",
      "-----------------------------------------------------\n",
      "18.1 K    Trainable params\n",
      "0         Non-trainable params\n",
      "18.1 K    Total params\n",
      "0.073     Total estimated model params size (MB)\n",
      "`Trainer.fit` stopped: `max_epochs=5` reached.\n",
      "Restoring states from the checkpoint path at C:\\Users\\MrMil\\dev\\automl-drug-discovery\\logs\\AID1445\\DR\\hyperoptsimple2layer\\version_0\\lightning_logs\\version_9\\checkpoints\\epoch=04-loss/val=13.01.ckpt\n",
      "LOCAL_RANK: 0 - CUDA_VISIBLE_DEVICES: [0]\n",
      "Loaded model weights from checkpoint at C:\\Users\\MrMil\\dev\\automl-drug-discovery\\logs\\AID1445\\DR\\hyperoptsimple2layer\\version_0\\lightning_logs\\version_9\\checkpoints\\epoch=04-loss/val=13.01.ckpt\n"
     ]
    },
    {
     "name": "stdout",
     "output_type": "stream",
     "text": [
      "(<GNNLayerType.GCN: <class 'torch_geometric.nn.conv.gcn_conv.GCNConv'>>, <GNNLayerType.GAT: <class 'torch_geometric.nn.conv.gat_conv.GATConv'>>)                                                                                       \n",
      "<class 'tuple'>                                                                                                                                                                                                                        \n",
      " 90%|████████████████████████████████████████████████████████████████████████████████████████████████████████████████████████████████████████████████▉                | 9/10 [00:49<00:05,  5.31s/trial, best loss: 0.9565171003341675]"
     ]
    },
    {
     "name": "stderr",
     "output_type": "stream",
     "text": [
      "GPU available: True (cuda), used: True\n",
      "TPU available: False, using: 0 TPU cores\n",
      "IPU available: False, using: 0 IPUs\n",
      "HPU available: False, using: 0 HPUs\n",
      "LOCAL_RANK: 0 - CUDA_VISIBLE_DEVICES: [0]\n",
      "\n",
      "  | Name           | Type              | Params\n",
      "-----------------------------------------------------\n",
      "0 | gnn            | Sequential_96a30c | 6.3 K \n",
      "1 | regression_mlp | Sequential        | 41    \n",
      "2 | loss           | MSELoss           | 0     \n",
      "3 | val_metrics    | MetricCollection  | 0     \n",
      "4 | test_metrics   | MetricCollection  | 0     \n",
      "-----------------------------------------------------\n",
      "6.3 K     Trainable params\n",
      "0         Non-trainable params\n",
      "6.3 K     Total params\n",
      "0.025     Total estimated model params size (MB)\n",
      "`Trainer.fit` stopped: `max_epochs=5` reached.\n",
      "Restoring states from the checkpoint path at C:\\Users\\MrMil\\dev\\automl-drug-discovery\\logs\\AID1445\\DR\\hyperoptsimple2layer\\version_0\\lightning_logs\\version_10\\checkpoints\\epoch=04-loss/val=20.24.ckpt\n",
      "LOCAL_RANK: 0 - CUDA_VISIBLE_DEVICES: [0]\n",
      "Loaded model weights from checkpoint at C:\\Users\\MrMil\\dev\\automl-drug-discovery\\logs\\AID1445\\DR\\hyperoptsimple2layer\\version_0\\lightning_logs\\version_10\\checkpoints\\epoch=04-loss/val=20.24.ckpt\n"
     ]
    },
    {
     "name": "stdout",
     "output_type": "stream",
     "text": [
      "100%|████████████████████████████████████████████████████████████████████████████████████████████████████████████████████████████████████████████████████████████████| 10/10 [00:53<00:00,  5.35s/trial, best loss: 0.9565171003341675]\n",
      "{'batch_normalise': False, 'layers': {'activation_funcs': ('ReLU', 'ReLU'), 'hidden_features': 224.0, 'layer_types': (<GNNLayerType.GCN: <class 'torch_geometric.nn.conv.gcn_conv.GCNConv'>>, <GNNLayerType.GCN: <class 'torch_geometric.nn.conv.gcn_conv.GCNConv'>>), 'num': 2}, 'pool_func': <PoolingFunction.ADD: functools.partial(<function global_add_pool at 0x0000013C8ABF6C20>)>}\n"
     ]
    }
   ],
   "source": [
    "simple_search_space = {\n",
    "    'pool_func': hp.choice('pool_func', PoolingFunction),\n",
    "    'batch_normalise': hp.choice('batch_normalise', [True, False]),\n",
    "    'layers': hp.choice('layers', [\n",
    "        {\n",
    "            'num': i,\n",
    "            'layer_types': [hp.choice(f'type{i}{j}', [GNNLayerType.GCN, GNNLayerType.GAT]) for j in range(i)],\n",
    "            'hidden_features': hp.quniform(f'features{i}', 16, 256, 8),\n",
    "            'activation_funcs': [hp.choice(f'activation{i}{j}', ActivationFunction) for j in range(i)],\n",
    "        }\n",
    "        for i in range(2, 3)\n",
    "    ]),\n",
    "    \n",
    "}\n",
    "\n",
    "params = HyperParameters(\n",
    "    random_seed=1424,\n",
    "    use_sd_readouts=False,\n",
    "    k_folds=1,\n",
    "    test_split=0.2,\n",
    "    train_val_split=0.75,\n",
    "    batch_size=32,\n",
    "    early_stop_patience=30,\n",
    "    early_stop_min_delta=0.01,\n",
    "    lr=0.0001,\n",
    "    max_epochs=5\n",
    ")\n",
    "\n",
    "run_hyperopt('AID1445', simple_search_space, params, 10, 'simple2layer')"
   ]
  },
  {
   "cell_type": "code",
   "execution_count": null,
   "id": "3c7fe34c-48aa-4933-a3c9-589dba7c7650",
   "metadata": {},
   "outputs": [],
   "source": []
  }
 ],
 "metadata": {
  "kernelspec": {
   "display_name": "Python 3 (ipykernel)",
   "language": "python",
   "name": "python3"
  },
  "language_info": {
   "codemirror_mode": {
    "name": "ipython",
    "version": 3
   },
   "file_extension": ".py",
   "mimetype": "text/x-python",
   "name": "python",
   "nbconvert_exporter": "python",
   "pygments_lexer": "ipython3",
   "version": "3.10.8"
  }
 },
 "nbformat": 4,
 "nbformat_minor": 5
}
