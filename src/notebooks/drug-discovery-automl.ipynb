{
 "cells": [
  {
   "cell_type": "code",
   "execution_count": 1,
   "id": "4264f525-b3df-46f7-89a5-dc8897b1aa45",
   "metadata": {},
   "outputs": [],
   "source": [
    "%load_ext tensorboard"
   ]
  },
  {
   "cell_type": "code",
   "execution_count": 1,
   "id": "92babac1-d979-459b-ae9c-50d013fb9671",
   "metadata": {},
   "outputs": [],
   "source": [
    "import os\n",
    "import sys\n",
    "module_path = os.path.abspath(os.path.join('../..'))\n",
    "if module_path not in sys.path:\n",
    "    sys.path.append(module_path)"
   ]
  },
  {
   "cell_type": "code",
   "execution_count": 12,
   "id": "2d97ec0c",
   "metadata": {},
   "outputs": [],
   "source": [
    "import hyperopt\n",
    "from hyperopt import hp\n",
    "from hyperopt.pyll.stochastic import sample\n",
    "import numpy as np\n",
    "import pandas as pd\n",
    "import pytorch_lightning as tl\n",
    "import matplotlib.pyplot as plt\n",
    "import scipy as sp\n",
    "import torch\n",
    "from torch_geometric.data import LightningDataset\n",
    "\n",
    "from src.models import GNNLayerType, RegressionLayerType, ActivationFunction, PoolingFunction, ModelArchitecture, GNNArchitecture, build_uniform_gnn_architecture, construct_gnn, construct_mlp\n",
    "from src.config import DEFAULT_N_FEATURES, LOG_DIR, DATA_DIR, RANDOM_SEEDS\n",
    "from src.training import train_model\n",
    "from src.reporting import generate_experiment_dir\n",
    "from src.parameters import HyperParameters\n",
    "from src.data import HTSDataset, split_dataset, DatasetUsage, partition_dataset, MFPCBA\n",
    "from src.metrics import DEFAULT_METRICS"
   ]
  },
  {
   "cell_type": "code",
   "execution_count": 5,
   "id": "f1980f0f-a1ad-4694-bea5-258520a47a1a",
   "metadata": {},
   "outputs": [],
   "source": [
    "dataset = HTSDataset('AID1445', DatasetUsage.DROnly)"
   ]
  },
  {
   "cell_type": "code",
   "execution_count": 14,
   "id": "52eadc03-1352-4356-b74e-097818c2bd42",
   "metadata": {},
   "outputs": [],
   "source": [
    "params = HyperParameters(\n",
    "    random_seed=1424,\n",
    "    use_sd_readouts=False,\n",
    "    dataset_split=MFPCBA(RANDOM_SEEDS['AID1445']),\n",
    "    test_split=0.2,\n",
    "    train_val_split=0.75,\n",
    "    batch_size=32,\n",
    "    early_stop_patience=30,\n",
    "    early_stop_min_delta=0.01,\n",
    "    lr=0.0001,\n",
    "    max_epochs=5,\n",
    "    num_workers=0,\n",
    ")"
   ]
  },
  {
   "cell_type": "markdown",
   "id": "544046e1-a47a-4de7-8158-3d6968c8743a",
   "metadata": {},
   "source": [
    "## Extension 2 - HyperOpt"
   ]
  },
  {
   "cell_type": "code",
   "execution_count": 12,
   "id": "09b7825f-1ebb-40c8-b29d-c5c016746788",
   "metadata": {},
   "outputs": [],
   "source": [
    "def create_gnn_architecture(space):\n",
    "    layers = space['layers']\n",
    "    regression_architecture = ModelArchitecture(\n",
    "        layer_types=[RegressionLayerType.Linear],\n",
    "        features=[int(layers['hidden_features']), 1],\n",
    "        activation_funcs=[None],\n",
    "        batch_normalise=[False]\n",
    "    )\n",
    "    return GNNArchitecture(\n",
    "        layer_types=layers['layer_types'],\n",
    "        features=[DEFAULT_N_FEATURES] + [int(layers['hidden_features'])] * layers['num'],\n",
    "        activation_funcs=layers['activation_funcs'],\n",
    "        batch_normalise=[space['batch_normalise']] * layers['num'],\n",
    "        pool_func=space['pool_func'],\n",
    "        regression_layer=regression_architecture\n",
    "    )"
   ]
  },
  {
   "cell_type": "code",
   "execution_count": 4,
   "id": "eb8c1adc-0599-49d9-bdcc-1a946d4774ca",
   "metadata": {},
   "outputs": [],
   "source": [
    "def prepare_objective(dataset_name, params, experiment_dir):\n",
    "    dataset_dir = DATA_DIR / dataset_name\n",
    "    dataset = HTSDataset(dataset_dir, 'DR')\n",
    "    test_dataset, training_dataset = split_dataset(dataset, params.test_split)\n",
    "    train_dataset, val_dataset = split_dataset(dataset, params.train_val_split)\n",
    "    datamodule = LightningDataset(train_dataset, val_dataset, test_dataset, batch_size=params.batch_size, num_workers=NUM_WORKERS)\n",
    "    \n",
    "    def objective(x):\n",
    "        run_dir = experiment_dir / f'version_{objective.version}'\n",
    "        architecture = create_gnn_architecture(x)\n",
    "        print(architecture.layer_types)\n",
    "        print(type(architecture.layer_types))\n",
    "        result = train_model(architecture, params, datamodule, run_dir)\n",
    "        return {'loss': result['RootMeanSquaredError'], 'status': hyperopt.STATUS_OK}\n",
    "    \n",
    "    objective.version = 0\n",
    "    return objective\n",
    "\n",
    "                \n",
    "def run_hyperopt(dataset_name, search_space, params, max_evals, experiment_name):\n",
    "    experiment_dir = LOG_DIR / generate_experiment_dir(dataset_name, params.use_sd_readouts, 'hyperopt' + experiment_name)\n",
    "    objective = prepare_objective(dataset_name, params, experiment_dir)\n",
    "    best = hyperopt.fmin(\n",
    "        fn=objective,\n",
    "        space=search_space,\n",
    "        algo=hyperopt.tpe.suggest,\n",
    "        max_evals=max_evals\n",
    "    )\n",
    "    print(hyperopt.space_eval(search_space, best))\n",
    "    "
   ]
  },
  {
   "cell_type": "code",
   "execution_count": 13,
   "id": "6d55764a-c732-426a-a0bc-44f309cee087",
   "metadata": {},
   "outputs": [
    {
     "name": "stdout",
     "output_type": "stream",
     "text": [
      "(<GNNLayerType.GCN: <class 'torch_geometric.nn.conv.gcn_conv.GCNConv'>>, <GNNLayerType.GCN: <class 'torch_geometric.nn.conv.gcn_conv.GCNConv'>>)                                                                                       \n",
      "<class 'tuple'>                                                                                                                                                                                                                        \n",
      "  0%|                                                                                                                                                                                           | 0/10 [00:00<?, ?trial/s, best loss=?]"
     ]
    },
    {
     "name": "stderr",
     "output_type": "stream",
     "text": [
      "GPU available: True (cuda), used: True\n",
      "TPU available: False, using: 0 TPU cores\n",
      "IPU available: False, using: 0 IPUs\n",
      "HPU available: False, using: 0 HPUs\n",
      "LOCAL_RANK: 0 - CUDA_VISIBLE_DEVICES: [0]\n",
      "\n",
      "  | Name           | Type              | Params\n",
      "-----------------------------------------------------\n",
      "0 | gnn            | Sequential_7970c8 | 11.5 K\n",
      "1 | regression_mlp | Sequential        | 65    \n",
      "2 | loss           | MSELoss           | 0     \n",
      "3 | val_metrics    | MetricCollection  | 0     \n",
      "4 | test_metrics   | MetricCollection  | 0     \n",
      "-----------------------------------------------------\n",
      "11.5 K    Trainable params\n",
      "0         Non-trainable params\n",
      "11.5 K    Total params\n",
      "0.046     Total estimated model params size (MB)\n",
      "C:\\Users\\MrMil\\miniconda3\\envs\\automl-drug-discovery\\lib\\site-packages\\pytorch_lightning\\trainer\\connectors\\data_connector.py:224: PossibleUserWarning: The dataloader, val_dataloader 0, does not have many workers which may be a bottleneck. Consider increasing the value of the `num_workers` argument` (try 16 which is the number of cpus on this machine) in the `DataLoader` init to improve performance.\n",
      "  rank_zero_warn(\n",
      "\n",
      "C:\\Users\\MrMil\\miniconda3\\envs\\automl-drug-discovery\\lib\\site-packages\\pytorch_lightning\\trainer\\connectors\\data_connector.py:224: PossibleUserWarning: The dataloader, train_dataloader, does not have many workers which may be a bottleneck. Consider increasing the value of the `num_workers` argument` (try 16 which is the number of cpus on this machine) in the `DataLoader` init to improve performance.\n",
      "  rank_zero_warn(\n",
      "\n",
      "`Trainer.fit` stopped: `max_epochs=5` reached.\n",
      "Restoring states from the checkpoint path at C:\\Users\\MrMil\\dev\\automl-drug-discovery\\logs\\AID1445\\DR\\hyperoptsimple2layer\\version_0\\lightning_logs\\version_1\\checkpoints\\epoch=04-loss/val=0.79.ckpt\n",
      "LOCAL_RANK: 0 - CUDA_VISIBLE_DEVICES: [0]\n",
      "Loaded model weights from checkpoint at C:\\Users\\MrMil\\dev\\automl-drug-discovery\\logs\\AID1445\\DR\\hyperoptsimple2layer\\version_0\\lightning_logs\\version_1\\checkpoints\\epoch=04-loss/val=0.79.ckpt\n",
      "C:\\Users\\MrMil\\miniconda3\\envs\\automl-drug-discovery\\lib\\site-packages\\pytorch_lightning\\trainer\\connectors\\data_connector.py:224: PossibleUserWarning: The dataloader, test_dataloader 0, does not have many workers which may be a bottleneck. Consider increasing the value of the `num_workers` argument` (try 16 which is the number of cpus on this machine) in the `DataLoader` init to improve performance.\n",
      "  rank_zero_warn(\n",
      "\n"
     ]
    },
    {
     "name": "stdout",
     "output_type": "stream",
     "text": [
      "(<GNNLayerType.GCN: <class 'torch_geometric.nn.conv.gcn_conv.GCNConv'>>, <GNNLayerType.GCN: <class 'torch_geometric.nn.conv.gcn_conv.GCNConv'>>)                                                                                       \n",
      "<class 'tuple'>                                                                                                                                                                                                                        \n",
      " 10%|████████████████                                                                                                                                                 | 1/10 [00:05<00:45,  5.11s/trial, best loss: 0.9604218006134033]"
     ]
    },
    {
     "name": "stderr",
     "output_type": "stream",
     "text": [
      "GPU available: True (cuda), used: True\n",
      "TPU available: False, using: 0 TPU cores\n",
      "IPU available: False, using: 0 IPUs\n",
      "HPU available: False, using: 0 HPUs\n",
      "LOCAL_RANK: 0 - CUDA_VISIBLE_DEVICES: [0]\n",
      "\n",
      "  | Name           | Type              | Params\n",
      "-----------------------------------------------------\n",
      "0 | gnn            | Sequential_7c7aac | 7.8 K \n",
      "1 | regression_mlp | Sequential        | 49    \n",
      "2 | loss           | MSELoss           | 0     \n",
      "3 | val_metrics    | MetricCollection  | 0     \n",
      "4 | test_metrics   | MetricCollection  | 0     \n",
      "-----------------------------------------------------\n",
      "7.9 K     Trainable params\n",
      "0         Non-trainable params\n",
      "7.9 K     Total params\n",
      "0.031     Total estimated model params size (MB)\n",
      "`Trainer.fit` stopped: `max_epochs=5` reached.\n",
      "Restoring states from the checkpoint path at C:\\Users\\MrMil\\dev\\automl-drug-discovery\\logs\\AID1445\\DR\\hyperoptsimple2layer\\version_0\\lightning_logs\\version_2\\checkpoints\\epoch=04-loss/val=3.74.ckpt\n",
      "LOCAL_RANK: 0 - CUDA_VISIBLE_DEVICES: [0]\n",
      "Loaded model weights from checkpoint at C:\\Users\\MrMil\\dev\\automl-drug-discovery\\logs\\AID1445\\DR\\hyperoptsimple2layer\\version_0\\lightning_logs\\version_2\\checkpoints\\epoch=04-loss/val=3.74.ckpt\n"
     ]
    },
    {
     "name": "stdout",
     "output_type": "stream",
     "text": [
      "(<GNNLayerType.GAT: <class 'torch_geometric.nn.conv.gat_conv.GATConv'>>, <GNNLayerType.GAT: <class 'torch_geometric.nn.conv.gat_conv.GATConv'>>)                                                                                       \n",
      "<class 'tuple'>                                                                                                                                                                                                                        \n",
      " 20%|████████████████████████████████▏                                                                                                                                | 2/10 [00:09<00:36,  4.58s/trial, best loss: 0.9604218006134033]"
     ]
    },
    {
     "name": "stderr",
     "output_type": "stream",
     "text": [
      "GPU available: True (cuda), used: True\n",
      "TPU available: False, using: 0 TPU cores\n",
      "IPU available: False, using: 0 IPUs\n",
      "HPU available: False, using: 0 HPUs\n",
      "LOCAL_RANK: 0 - CUDA_VISIBLE_DEVICES: [0]\n",
      "\n",
      "  | Name           | Type              | Params\n",
      "-----------------------------------------------------\n",
      "0 | gnn            | Sequential_7efbe7 | 13.8 K\n",
      "1 | regression_mlp | Sequential        | 73    \n",
      "2 | loss           | MSELoss           | 0     \n",
      "3 | val_metrics    | MetricCollection  | 0     \n",
      "4 | test_metrics   | MetricCollection  | 0     \n",
      "-----------------------------------------------------\n",
      "13.8 K    Trainable params\n",
      "0         Non-trainable params\n",
      "13.8 K    Total params\n",
      "0.055     Total estimated model params size (MB)\n",
      "`Trainer.fit` stopped: `max_epochs=5` reached.\n",
      "Restoring states from the checkpoint path at C:\\Users\\MrMil\\dev\\automl-drug-discovery\\logs\\AID1445\\DR\\hyperoptsimple2layer\\version_0\\lightning_logs\\version_3\\checkpoints\\epoch=03-loss/val=0.76.ckpt\n",
      "LOCAL_RANK: 0 - CUDA_VISIBLE_DEVICES: [0]\n",
      "Loaded model weights from checkpoint at C:\\Users\\MrMil\\dev\\automl-drug-discovery\\logs\\AID1445\\DR\\hyperoptsimple2layer\\version_0\\lightning_logs\\version_3\\checkpoints\\epoch=03-loss/val=0.76.ckpt\n"
     ]
    },
    {
     "name": "stdout",
     "output_type": "stream",
     "text": [
      "(<GNNLayerType.GAT: <class 'torch_geometric.nn.conv.gat_conv.GATConv'>>, <GNNLayerType.GCN: <class 'torch_geometric.nn.conv.gcn_conv.GCNConv'>>)                                                                                       \n",
      "<class 'tuple'>                                                                                                                                                                                                                        \n",
      " 30%|████████████████████████████████████████████████▎                                                                                                                | 3/10 [00:14<00:35,  5.02s/trial, best loss: 0.9604218006134033]"
     ]
    },
    {
     "name": "stderr",
     "output_type": "stream",
     "text": [
      "GPU available: True (cuda), used: True\n",
      "TPU available: False, using: 0 TPU cores\n",
      "IPU available: False, using: 0 IPUs\n",
      "HPU available: False, using: 0 HPUs\n",
      "LOCAL_RANK: 0 - CUDA_VISIBLE_DEVICES: [0]\n",
      "\n",
      "  | Name           | Type              | Params\n",
      "-----------------------------------------------------\n",
      "0 | gnn            | Sequential_824c48 | 96.5 K\n",
      "1 | regression_mlp | Sequential        | 257   \n",
      "2 | loss           | MSELoss           | 0     \n",
      "3 | val_metrics    | MetricCollection  | 0     \n",
      "4 | test_metrics   | MetricCollection  | 0     \n",
      "-----------------------------------------------------\n",
      "96.8 K    Trainable params\n",
      "0         Non-trainable params\n",
      "96.8 K    Total params\n",
      "0.387     Total estimated model params size (MB)\n",
      "`Trainer.fit` stopped: `max_epochs=5` reached.\n",
      "Restoring states from the checkpoint path at C:\\Users\\MrMil\\dev\\automl-drug-discovery\\logs\\AID1445\\DR\\hyperoptsimple2layer\\version_0\\lightning_logs\\version_4\\checkpoints\\epoch=03-loss/val=19.26.ckpt\n",
      "LOCAL_RANK: 0 - CUDA_VISIBLE_DEVICES: [0]\n",
      "Loaded model weights from checkpoint at C:\\Users\\MrMil\\dev\\automl-drug-discovery\\logs\\AID1445\\DR\\hyperoptsimple2layer\\version_0\\lightning_logs\\version_4\\checkpoints\\epoch=03-loss/val=19.26.ckpt\n"
     ]
    },
    {
     "name": "stdout",
     "output_type": "stream",
     "text": [
      "(<GNNLayerType.GAT: <class 'torch_geometric.nn.conv.gat_conv.GATConv'>>, <GNNLayerType.GAT: <class 'torch_geometric.nn.conv.gat_conv.GATConv'>>)                                                                                       \n",
      "<class 'tuple'>                                                                                                                                                                                                                        \n",
      " 40%|████████████████████████████████████████████████████████████████▍                                                                                                | 4/10 [00:22<00:35,  5.96s/trial, best loss: 0.9604218006134033]"
     ]
    },
    {
     "name": "stderr",
     "output_type": "stream",
     "text": [
      "GPU available: True (cuda), used: True\n",
      "TPU available: False, using: 0 TPU cores\n",
      "IPU available: False, using: 0 IPUs\n",
      "HPU available: False, using: 0 HPUs\n",
      "LOCAL_RANK: 0 - CUDA_VISIBLE_DEVICES: [0]\n",
      "\n",
      "  | Name           | Type              | Params\n",
      "-----------------------------------------------------\n",
      "0 | gnn            | Sequential_86bbb3 | 4.8 K \n",
      "1 | regression_mlp | Sequential        | 33    \n",
      "2 | loss           | MSELoss           | 0     \n",
      "3 | val_metrics    | MetricCollection  | 0     \n",
      "4 | test_metrics   | MetricCollection  | 0     \n",
      "-----------------------------------------------------\n",
      "4.9 K     Trainable params\n",
      "0         Non-trainable params\n",
      "4.9 K     Total params\n",
      "0.019     Total estimated model params size (MB)\n",
      "`Trainer.fit` stopped: `max_epochs=5` reached.\n",
      "Restoring states from the checkpoint path at C:\\Users\\MrMil\\dev\\automl-drug-discovery\\logs\\AID1445\\DR\\hyperoptsimple2layer\\version_0\\lightning_logs\\version_5\\checkpoints\\epoch=04-loss/val=20.00.ckpt\n",
      "LOCAL_RANK: 0 - CUDA_VISIBLE_DEVICES: [0]\n",
      "Loaded model weights from checkpoint at C:\\Users\\MrMil\\dev\\automl-drug-discovery\\logs\\AID1445\\DR\\hyperoptsimple2layer\\version_0\\lightning_logs\\version_5\\checkpoints\\epoch=04-loss/val=20.00.ckpt\n"
     ]
    },
    {
     "name": "stdout",
     "output_type": "stream",
     "text": [
      "(<GNNLayerType.GCN: <class 'torch_geometric.nn.conv.gcn_conv.GCNConv'>>, <GNNLayerType.GCN: <class 'torch_geometric.nn.conv.gcn_conv.GCNConv'>>)                                                                                       \n",
      "<class 'tuple'>                                                                                                                                                                                                                        \n",
      " 50%|████████████████████████████████████████████████████████████████████████████████▌                                                                                | 5/10 [00:27<00:28,  5.78s/trial, best loss: 0.9604218006134033]"
     ]
    },
    {
     "name": "stderr",
     "output_type": "stream",
     "text": [
      "GPU available: True (cuda), used: True\n",
      "TPU available: False, using: 0 TPU cores\n",
      "IPU available: False, using: 0 IPUs\n",
      "HPU available: False, using: 0 HPUs\n",
      "LOCAL_RANK: 0 - CUDA_VISIBLE_DEVICES: [0]\n",
      "\n",
      "  | Name           | Type              | Params\n",
      "-----------------------------------------------------\n",
      "0 | gnn            | Sequential_89f5f2 | 63.0 K\n",
      "1 | regression_mlp | Sequential        | 201   \n",
      "2 | loss           | MSELoss           | 0     \n",
      "3 | val_metrics    | MetricCollection  | 0     \n",
      "4 | test_metrics   | MetricCollection  | 0     \n",
      "-----------------------------------------------------\n",
      "63.2 K    Trainable params\n",
      "0         Non-trainable params\n",
      "63.2 K    Total params\n",
      "0.253     Total estimated model params size (MB)\n",
      "`Trainer.fit` stopped: `max_epochs=5` reached.\n",
      "Restoring states from the checkpoint path at C:\\Users\\MrMil\\dev\\automl-drug-discovery\\logs\\AID1445\\DR\\hyperoptsimple2layer\\version_0\\lightning_logs\\version_6\\checkpoints\\epoch=04-loss/val=12.46.ckpt\n",
      "LOCAL_RANK: 0 - CUDA_VISIBLE_DEVICES: [0]\n",
      "Loaded model weights from checkpoint at C:\\Users\\MrMil\\dev\\automl-drug-discovery\\logs\\AID1445\\DR\\hyperoptsimple2layer\\version_0\\lightning_logs\\version_6\\checkpoints\\epoch=04-loss/val=12.46.ckpt\n"
     ]
    },
    {
     "name": "stdout",
     "output_type": "stream",
     "text": [
      "(<GNNLayerType.GCN: <class 'torch_geometric.nn.conv.gcn_conv.GCNConv'>>, <GNNLayerType.GAT: <class 'torch_geometric.nn.conv.gat_conv.GATConv'>>)                                                                                       \n",
      "<class 'tuple'>                                                                                                                                                                                                                        \n",
      " 60%|████████████████████████████████████████████████████████████████████████████████████████████████▌                                                                | 6/10 [00:33<00:23,  5.75s/trial, best loss: 0.9604218006134033]"
     ]
    },
    {
     "name": "stderr",
     "output_type": "stream",
     "text": [
      "GPU available: True (cuda), used: True\n",
      "TPU available: False, using: 0 TPU cores\n",
      "IPU available: False, using: 0 IPUs\n",
      "HPU available: False, using: 0 HPUs\n",
      "LOCAL_RANK: 0 - CUDA_VISIBLE_DEVICES: [0]\n",
      "\n",
      "  | Name           | Type              | Params\n",
      "-----------------------------------------------------\n",
      "0 | gnn            | Sequential_8d5aa3 | 34.4 K\n",
      "1 | regression_mlp | Sequential        | 137   \n",
      "2 | loss           | MSELoss           | 0     \n",
      "3 | val_metrics    | MetricCollection  | 0     \n",
      "4 | test_metrics   | MetricCollection  | 0     \n",
      "-----------------------------------------------------\n",
      "34.5 K    Trainable params\n",
      "0         Non-trainable params\n",
      "34.5 K    Total params\n",
      "0.138     Total estimated model params size (MB)\n",
      "`Trainer.fit` stopped: `max_epochs=5` reached.\n",
      "Restoring states from the checkpoint path at C:\\Users\\MrMil\\dev\\automl-drug-discovery\\logs\\AID1445\\DR\\hyperoptsimple2layer\\version_0\\lightning_logs\\version_7\\checkpoints\\epoch=04-loss/val=16.10.ckpt\n",
      "LOCAL_RANK: 0 - CUDA_VISIBLE_DEVICES: [0]\n",
      "Loaded model weights from checkpoint at C:\\Users\\MrMil\\dev\\automl-drug-discovery\\logs\\AID1445\\DR\\hyperoptsimple2layer\\version_0\\lightning_logs\\version_7\\checkpoints\\epoch=04-loss/val=16.10.ckpt\n"
     ]
    },
    {
     "name": "stdout",
     "output_type": "stream",
     "text": [
      "(<GNNLayerType.GCN: <class 'torch_geometric.nn.conv.gcn_conv.GCNConv'>>, <GNNLayerType.GCN: <class 'torch_geometric.nn.conv.gcn_conv.GCNConv'>>)                                                                                       \n",
      "<class 'tuple'>                                                                                                                                                                                                                        \n",
      " 70%|████████████████████████████████████████████████████████████████████████████████████████████████████████████████▋                                                | 7/10 [00:38<00:16,  5.59s/trial, best loss: 0.9604218006134033]"
     ]
    },
    {
     "name": "stderr",
     "output_type": "stream",
     "text": [
      "GPU available: True (cuda), used: True\n",
      "TPU available: False, using: 0 TPU cores\n",
      "IPU available: False, using: 0 IPUs\n",
      "HPU available: False, using: 0 HPUs\n",
      "LOCAL_RANK: 0 - CUDA_VISIBLE_DEVICES: [0]\n",
      "\n",
      "  | Name           | Type              | Params\n",
      "-----------------------------------------------------\n",
      "0 | gnn            | Sequential_907cdf | 75.9 K\n",
      "1 | regression_mlp | Sequential        | 225   \n",
      "2 | loss           | MSELoss           | 0     \n",
      "3 | val_metrics    | MetricCollection  | 0     \n",
      "4 | test_metrics   | MetricCollection  | 0     \n",
      "-----------------------------------------------------\n",
      "76.2 K    Trainable params\n",
      "0         Non-trainable params\n",
      "76.2 K    Total params\n",
      "0.305     Total estimated model params size (MB)\n",
      "`Trainer.fit` stopped: `max_epochs=5` reached.\n",
      "Restoring states from the checkpoint path at C:\\Users\\MrMil\\dev\\automl-drug-discovery\\logs\\AID1445\\DR\\hyperoptsimple2layer\\version_0\\lightning_logs\\version_8\\checkpoints\\epoch=04-loss/val=0.80.ckpt\n",
      "LOCAL_RANK: 0 - CUDA_VISIBLE_DEVICES: [0]\n",
      "Loaded model weights from checkpoint at C:\\Users\\MrMil\\dev\\automl-drug-discovery\\logs\\AID1445\\DR\\hyperoptsimple2layer\\version_0\\lightning_logs\\version_8\\checkpoints\\epoch=04-loss/val=0.80.ckpt\n"
     ]
    },
    {
     "name": "stdout",
     "output_type": "stream",
     "text": [
      "(<GNNLayerType.GAT: <class 'torch_geometric.nn.conv.gat_conv.GATConv'>>, <GNNLayerType.GCN: <class 'torch_geometric.nn.conv.gcn_conv.GCNConv'>>)                                                                                       \n",
      "<class 'tuple'>                                                                                                                                                                                                                        \n",
      " 80%|████████████████████████████████████████████████████████████████████████████████████████████████████████████████████████████████▊                                | 8/10 [00:44<00:11,  5.61s/trial, best loss: 0.9565171003341675]"
     ]
    },
    {
     "name": "stderr",
     "output_type": "stream",
     "text": [
      "GPU available: True (cuda), used: True\n",
      "TPU available: False, using: 0 TPU cores\n",
      "IPU available: False, using: 0 IPUs\n",
      "HPU available: False, using: 0 HPUs\n",
      "LOCAL_RANK: 0 - CUDA_VISIBLE_DEVICES: [0]\n",
      "\n",
      "  | Name           | Type              | Params\n",
      "-----------------------------------------------------\n",
      "0 | gnn            | Sequential_93dcf4 | 18.0 K\n",
      "1 | regression_mlp | Sequential        | 89    \n",
      "2 | loss           | MSELoss           | 0     \n",
      "3 | val_metrics    | MetricCollection  | 0     \n",
      "4 | test_metrics   | MetricCollection  | 0     \n",
      "-----------------------------------------------------\n",
      "18.1 K    Trainable params\n",
      "0         Non-trainable params\n",
      "18.1 K    Total params\n",
      "0.073     Total estimated model params size (MB)\n",
      "`Trainer.fit` stopped: `max_epochs=5` reached.\n",
      "Restoring states from the checkpoint path at C:\\Users\\MrMil\\dev\\automl-drug-discovery\\logs\\AID1445\\DR\\hyperoptsimple2layer\\version_0\\lightning_logs\\version_9\\checkpoints\\epoch=04-loss/val=13.01.ckpt\n",
      "LOCAL_RANK: 0 - CUDA_VISIBLE_DEVICES: [0]\n",
      "Loaded model weights from checkpoint at C:\\Users\\MrMil\\dev\\automl-drug-discovery\\logs\\AID1445\\DR\\hyperoptsimple2layer\\version_0\\lightning_logs\\version_9\\checkpoints\\epoch=04-loss/val=13.01.ckpt\n"
     ]
    },
    {
     "name": "stdout",
     "output_type": "stream",
     "text": [
      "(<GNNLayerType.GCN: <class 'torch_geometric.nn.conv.gcn_conv.GCNConv'>>, <GNNLayerType.GAT: <class 'torch_geometric.nn.conv.gat_conv.GATConv'>>)                                                                                       \n",
      "<class 'tuple'>                                                                                                                                                                                                                        \n",
      " 90%|████████████████████████████████████████████████████████████████████████████████████████████████████████████████████████████████████████████████▉                | 9/10 [00:49<00:05,  5.31s/trial, best loss: 0.9565171003341675]"
     ]
    },
    {
     "name": "stderr",
     "output_type": "stream",
     "text": [
      "GPU available: True (cuda), used: True\n",
      "TPU available: False, using: 0 TPU cores\n",
      "IPU available: False, using: 0 IPUs\n",
      "HPU available: False, using: 0 HPUs\n",
      "LOCAL_RANK: 0 - CUDA_VISIBLE_DEVICES: [0]\n",
      "\n",
      "  | Name           | Type              | Params\n",
      "-----------------------------------------------------\n",
      "0 | gnn            | Sequential_96a30c | 6.3 K \n",
      "1 | regression_mlp | Sequential        | 41    \n",
      "2 | loss           | MSELoss           | 0     \n",
      "3 | val_metrics    | MetricCollection  | 0     \n",
      "4 | test_metrics   | MetricCollection  | 0     \n",
      "-----------------------------------------------------\n",
      "6.3 K     Trainable params\n",
      "0         Non-trainable params\n",
      "6.3 K     Total params\n",
      "0.025     Total estimated model params size (MB)\n",
      "`Trainer.fit` stopped: `max_epochs=5` reached.\n",
      "Restoring states from the checkpoint path at C:\\Users\\MrMil\\dev\\automl-drug-discovery\\logs\\AID1445\\DR\\hyperoptsimple2layer\\version_0\\lightning_logs\\version_10\\checkpoints\\epoch=04-loss/val=20.24.ckpt\n",
      "LOCAL_RANK: 0 - CUDA_VISIBLE_DEVICES: [0]\n",
      "Loaded model weights from checkpoint at C:\\Users\\MrMil\\dev\\automl-drug-discovery\\logs\\AID1445\\DR\\hyperoptsimple2layer\\version_0\\lightning_logs\\version_10\\checkpoints\\epoch=04-loss/val=20.24.ckpt\n"
     ]
    },
    {
     "name": "stdout",
     "output_type": "stream",
     "text": [
      "100%|████████████████████████████████████████████████████████████████████████████████████████████████████████████████████████████████████████████████████████████████| 10/10 [00:53<00:00,  5.35s/trial, best loss: 0.9565171003341675]\n",
      "{'batch_normalise': False, 'layers': {'activation_funcs': ('ReLU', 'ReLU'), 'hidden_features': 224.0, 'layer_types': (<GNNLayerType.GCN: <class 'torch_geometric.nn.conv.gcn_conv.GCNConv'>>, <GNNLayerType.GCN: <class 'torch_geometric.nn.conv.gcn_conv.GCNConv'>>), 'num': 2}, 'pool_func': <PoolingFunction.ADD: functools.partial(<function global_add_pool at 0x0000013C8ABF6C20>)>}\n"
     ]
    }
   ],
   "source": [
    "simple_search_space = {\n",
    "    'pool_func': hp.choice('pool_func', PoolingFunction),\n",
    "    'batch_normalise': hp.choice('batch_normalise', [True, False]),\n",
    "    'layers': hp.choice('layers', [\n",
    "        {\n",
    "            'num': i,\n",
    "            'layer_types': [hp.choice(f'type{i}{j}', [GNNLayerType.GCN, GNNLayerType.GAT]) for j in range(i)],\n",
    "            'hidden_features': hp.quniform(f'features{i}', 16, 256, 8),\n",
    "            'activation_funcs': [hp.choice(f'activation{i}{j}', ActivationFunction) for j in range(i)],\n",
    "        }\n",
    "        for i in range(2, 3)\n",
    "    ]),\n",
    "    \n",
    "}\n",
    "\n",
    "params = HyperParameters(\n",
    "    random_seed=1424,\n",
    "    use_sd_readouts=False,\n",
    "    k_folds=1,\n",
    "    test_split=0.2,\n",
    "    train_val_split=0.75,\n",
    "    batch_size=32,\n",
    "    early_stop_patience=30,\n",
    "    early_stop_min_delta=0.01,\n",
    "    lr=0.0001,\n",
    "    max_epochs=5\n",
    ")\n",
    "\n",
    "run_hyperopt('AID1445', simple_search_space, params, 10, 'simple2layer')"
   ]
  },
  {
   "cell_type": "code",
   "execution_count": null,
   "id": "3c7fe34c-48aa-4933-a3c9-589dba7c7650",
   "metadata": {},
   "outputs": [],
   "source": []
  }
 ],
 "metadata": {
  "kernelspec": {
   "display_name": "Python 3 (ipykernel)",
   "language": "python",
   "name": "python3"
  },
  "language_info": {
   "codemirror_mode": {
    "name": "ipython",
    "version": 3
   },
   "file_extension": ".py",
   "mimetype": "text/x-python",
   "name": "python",
   "nbconvert_exporter": "python",
   "pygments_lexer": "ipython3",
   "version": "3.10.8"
  }
 },
 "nbformat": 4,
 "nbformat_minor": 5
}
