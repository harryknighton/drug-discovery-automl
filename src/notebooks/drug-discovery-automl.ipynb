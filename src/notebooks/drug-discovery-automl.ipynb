{
 "cells": [
  {
   "cell_type": "code",
   "execution_count": 1,
   "id": "4264f525-b3df-46f7-89a5-dc8897b1aa45",
   "metadata": {},
   "outputs": [],
   "source": [
    "%load_ext tensorboard"
   ]
  },
  {
   "cell_type": "code",
   "execution_count": 26,
   "id": "2d97ec0c",
   "metadata": {},
   "outputs": [],
   "source": [
    "from dataclasses import dataclass\n",
    "from datetime import datetime\n",
    "from enum import Enum\n",
    "import json\n",
    "import logging\n",
    "import math\n",
    "import pprint\n",
    "from typing import Tuple, List, Type, Union\n",
    "\n",
    "import chemprop\n",
    "import hyperopt\n",
    "from hyperopt import hp\n",
    "import numpy as np\n",
    "import pandas as pd\n",
    "import pickle\n",
    "import pytorch_lightning as tl\n",
    "from pytorch_lightning.callbacks import ModelCheckpoint, EarlyStopping\n",
    "import matplotlib.pyplot as plt\n",
    "from rdkit import Chem\n",
    "import scipy as sp\n",
    "from sklearn.metrics import mean_squared_error, mean_absolute_error, r2_score, max_error\n",
    "import torch\n",
    "from torch import Tensor\n",
    "from torch.nn import ReLU, Linear, MSELoss, Dropout\n",
    "from torch.nn.functional import log_softmax, relu, dropout\n",
    "from torch.optim import AdamW\n",
    "from torchmetrics import MeanAbsoluteError, MeanSquaredError, PearsonCorrCoef, R2Score\n",
    "\n",
    "from torch_geometric.loader import DataLoader\n",
    "from torch_geometric.nn import (\n",
    "    Sequential,\n",
    "    MessagePassing, GCNConv, GATConv, GATv2Conv, GINConv,\n",
    "    Aggregation, global_mean_pool, global_max_pool, global_add_pool\n",
    ")"
   ]
  },
  {
   "cell_type": "markdown",
   "id": "68250f4f-aa67-484a-bd4b-627502f8d48b",
   "metadata": {},
   "source": [
    "# Data Prep\n",
    "Each dataset has the following columns: CID, SD, SD Z-score, DR, XC50, activity, neut-smiles, num. atoms and max atomic num. \n",
    "\n",
    "For the base of the project I will only be using the DR value and the neut-smiles representation. For any compound with a non-null DR value, the activity is 'Active'."
   ]
  },
  {
   "cell_type": "markdown",
   "id": "22b77c74-7c8f-4076-9163-351b80740265",
   "metadata": {},
   "source": [
    "# Run trials"
   ]
  },
  {
   "cell_type": "code",
   "execution_count": 49,
   "id": "3992b79f-9753-4831-b5b7-613f7de98ad7",
   "metadata": {},
   "outputs": [],
   "source": [
    "gcn_architecture = ModelArchitecture(\n",
    "    layer_types=[GNNLayer.GCN, GNNLayer.GCN, GNNLayer.GCN],\n",
    "    features=[133, 64, 16, 1],\n",
    "    activation_funcs=[ActivationFunction.ReLU, ActivationFunction.ReLU, None],\n",
    "    pool_func=PoolingFunction.MEAN\n",
    ")\n",
    "\n",
    "gat_architecture = ModelArchitecture(\n",
    "    layer_types=[GNNLayer.GAT, GNNLayer.GAT, GNNLayer.GAT],\n",
    "    features=[133, 64, 16, 1],\n",
    "    activation_funcs=[ActivationFunction.ReLU, ActivationFunction.ReLU, None],\n",
    "    pool_func=PoolingFunction.MEAN\n",
    ")\n",
    "\n",
    "gatv2_architecture = ModelArchitecture(\n",
    "    layer_types=[GNNLayer.GATv2, GNNLayer.GATv2, GNNLayer.GATv2],\n",
    "    features=[133, 64, 16, 1],\n",
    "    activation_funcs=[ActivationFunction.ReLU, ActivationFunction.ReLU, None],\n",
    "    pool_func=PoolingFunction.MEAN\n",
    ")"
   ]
  },
  {
   "cell_type": "code",
   "execution_count": 33,
   "id": "8e63c8fb-c6de-4f3f-9086-1559b3c56401",
   "metadata": {},
   "outputs": [
    {
     "data": {
      "text/plain": [
       "Reusing TensorBoard on port 6006 (pid 21916), started 0:11:17 ago. (Use '!kill 21916' to kill it.)"
      ]
     },
     "metadata": {},
     "output_type": "display_data"
    },
    {
     "data": {
      "text/html": [
       "\n",
       "      <iframe id=\"tensorboard-frame-1ffd111dae6a98e8\" width=\"100%\" height=\"800\" frameborder=\"0\">\n",
       "      </iframe>\n",
       "      <script>\n",
       "        (function() {\n",
       "          const frame = document.getElementById(\"tensorboard-frame-1ffd111dae6a98e8\");\n",
       "          const url = new URL(\"/\", window.location);\n",
       "          const port = 6006;\n",
       "          if (port) {\n",
       "            url.port = port;\n",
       "          }\n",
       "          frame.src = url;\n",
       "        })();\n",
       "      </script>\n",
       "    "
      ],
      "text/plain": [
       "<IPython.core.display.HTML object>"
      ]
     },
     "metadata": {},
     "output_type": "display_data"
    }
   ],
   "source": [
    "%tensorboard --logdir={EXPERIMENT_DIR}"
   ]
  },
  {
   "cell_type": "markdown",
   "id": "544046e1-a47a-4de7-8158-3d6968c8743a",
   "metadata": {},
   "source": [
    "## Extension 2 - HyperOpt"
   ]
  },
  {
   "cell_type": "code",
   "execution_count": null,
   "id": "30eabc42-3985-4608-a8a1-f4a902c480ef",
   "metadata": {},
   "outputs": [],
   "source": [
    "def objective(parameters):\n",
    "    dataset = DRDataset(root=DATA_DIR)\n",
    "    dataset.shuffle()\n",
    "    training_dataset, test_dataset = split_dataset(dataset, TRAIN_TEST_SPLIT)\n",
    "    test_dataloader = DataLoader(test_dataset, batch_size=BATCH_SIZE, num_workers=NUM_WORKERS)\n",
    "\n",
    "    for train_fold, val_fold in k_folds(training_dataset, K_FOLDS):\n",
    "        training_dataloader = DataLoader(train_fold, batch_size=BATCH_SIZE, shuffle=True, num_workers=NUM_WORKERS)\n",
    "        validation_dataloader = DataLoader(val_fold, batch_size=BATCH_SIZE, num_workers=NUM_WORKERS)\n",
    "        \n",
    "        model = LitGNN(architecture, DEFAULT_METRICS)\n",
    "\n",
    "        early_stop_callback = EarlyStopping(\n",
    "            monitor='loss/val',\n",
    "            mode='min',\n",
    "            patience=3,\n",
    "        )\n",
    "\n",
    "        trainer = tl.Trainer(\n",
    "            default_root_dir=run_dir,\n",
    "            deterministic=True,\n",
    "            log_every_n_steps=1,\n",
    "            max_epochs=MAX_EPOCHS,\n",
    "            callbacks=[checkpoint_callback, early_stop_callback],\n",
    "            enable_progress_bar=False\n",
    "        )\n",
    "\n",
    "        trainer.fit(\n",
    "            model,\n",
    "            training_dataloader,\n",
    "            validation_dataloader,\n",
    "        )\n",
    "        \n",
    "        return {'loss': trainer.callback_metrics['val/loss'], 'status': hp.STATUS_OK}"
   ]
  },
  {
   "cell_type": "code",
   "execution_count": 77,
   "id": "5f273293-ee26-4ab8-8364-67b277be7fc6",
   "metadata": {},
   "outputs": [
    {
     "name": "stdout",
     "output_type": "stream",
     "text": [
      "{'choice': {'layers': 2, 'types': ('GAT', 'GATv2')}, 'pool_func': 'MAX'}                                                                                                                                     \n",
      "{'choice': {'layers': 4, 'types': ('GATv2', 'GIN', 'GCN', 'GATv2')}, 'pool_func': 'MAX'}                                                                                                                     \n",
      "{'choice': {'layers': 2, 'types': ('GCN', 'GAT')}, 'pool_func': 'MAX'}                                                                                                                                       \n",
      "100%|███████████████████████████████████████████████████████████████████████████████████████████████████████████████████████████████████████████████████████| 3/3 [00:00<00:00, 43.48trial/s, best loss: 4.0]\n"
     ]
    }
   ],
   "source": [
    "def objective(x):\n",
    "    print(x)\n",
    "    return {'loss': x['choice']['layers'] ** 2, 'status': hyperopt.STATUS_OK}\n",
    "\n",
    "layer_names = [layer.name for layer in GNNLayer]\n",
    "search_space = {\n",
    "    'pool_func': hp.choice('name', ['MAX', 'MIN']),\n",
    "    'choice': hp.choice('layers', [\n",
    "        {\n",
    "            'layers':i,\n",
    "            'types': [hp.choice(f'types{i}{j}', layer_names) for j in range(i)]}\n",
    "        for i in range(2, 5)\n",
    "    ])      \n",
    "}\n",
    "\n",
    "best = hyperopt.fmin(\n",
    "    fn=objective,\n",
    "    space=search_space,\n",
    "    algo=hyperopt.tpe.suggest,\n",
    "    max_evals=3\n",
    ")\n"
   ]
  },
  {
   "cell_type": "code",
   "execution_count": 199,
   "id": "27774c2f-0896-4ed3-b27e-b2d71b22c221",
   "metadata": {},
   "outputs": [
    {
     "name": "stdin",
     "output_type": "stream",
     "text": [
      " {\"loss\": {\"mean\": 0.1427062451839447, \"variance\": 5.5452968808822334e-05}, \"mae\": {\"mean\": 0.3190796375274658, \"variance\": 6.943024345673621e-05}, \"rmse\": {\"mean\": 0.3752123713493347, \"variance\": 9.34278141357936e-05}, \"r2\": {\"mean\": -1.9244879484176636, \"variance\": 0.022452671080827713}, \"max_error\": {\"mean\": 0.7781556844711304, \"variance\": 0.0005830924492329359}}\n"
     ]
    },
    {
     "name": "stdout",
     "output_type": "stream",
     "text": [
      "\n",
      "0.1427062451839447\t5.5452968808822334e-05\t0.3190796375274658\t6.943024345673621e-05\t0.3752123713493347\t9.34278141357936e-05\t-1.9244879484176636\t0.022452671080827713\t0.7781556844711304\t0.0005830924492329359\n"
     ]
    }
   ],
   "source": [
    "results=json.loads(input())\n",
    "print()\n",
    "result_arr = [str(results[name][measure]) for name in ['loss'] + list(DEFAULT_METRICS.keys()) for measure in ['mean', 'variance']]\n",
    "print(\"\\t\".join(result_arr)) "
   ]
  }
 ],
 "metadata": {
  "kernelspec": {
   "display_name": "Python 3 (ipykernel)",
   "language": "python",
   "name": "python3"
  },
  "language_info": {
   "codemirror_mode": {
    "name": "ipython",
    "version": 3
   },
   "file_extension": ".py",
   "mimetype": "text/x-python",
   "name": "python",
   "nbconvert_exporter": "python",
   "pygments_lexer": "ipython3",
   "version": "3.10.8"
  }
 },
 "nbformat": 4,
 "nbformat_minor": 5
}
