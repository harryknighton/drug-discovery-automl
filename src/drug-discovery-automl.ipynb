{
 "cells": [
  {
   "cell_type": "code",
   "execution_count": 7,
   "id": "2d97ec0c",
   "metadata": {},
   "outputs": [],
   "source": [
    "from dataclasses import dataclass\n",
    "import numpy as np\n",
    "import pandas as pd\n",
    "from rdkit import Chem\n",
    "import chemprop\n",
    "import torch\n",
    "from torch import Tensor\n",
    "from torch.nn import ReLU, Linear, MSELoss\n",
    "from torch.nn.functional import log_softmax, relu, dropout\n",
    "from torch.optim import AdamW\n",
    "from torch_geometric.data import Data, Batch, InMemoryDataset\n",
    "from torch_geometric.loader import DataLoader\n",
    "from torch_geometric.nn import (\n",
    "    Sequential,\n",
    "    MessagePassing, GCNConv, GATConv, GATv2Conv, GINConv,\n",
    "    Aggregation, MeanAggregation, MaxAggregation, SumAggregation\n",
    ")\n",
    "import pytorch_lightning as tl\n",
    "from typing import Tuple, List, Type, Union"
   ]
  },
  {
   "cell_type": "code",
   "execution_count": 5,
   "id": "0aba61eb-a7d9-45f0-b5ff-0bc90d3fcda1",
   "metadata": {},
   "outputs": [],
   "source": [
    "DATA_DIR = '../data/AID1445/'\n",
    "DATAFILE = 'SD.csv'\n",
    "\n",
    "TRAIN_TEST_SPLIT = 0.9\n",
    "BATCH_SIZE = 1"
   ]
  },
  {
   "cell_type": "code",
   "execution_count": 6,
   "id": "f1c64bad-36e0-426f-8667-d1b04abf8cfd",
   "metadata": {},
   "outputs": [],
   "source": [
    "def get_connectivity(mol):\n",
    "    conns = []\n",
    "    b2a = mol.b2a\n",
    "    a2b = mol.a2b\n",
    "    for aI, bonds in enumerate(a2b):\n",
    "        neighbours = [(b2a[bI], aI) for bI in bonds]\n",
    "        conns.extend(neighbours)\n",
    "    return conns"
   ]
  },
  {
   "cell_type": "code",
   "execution_count": 7,
   "id": "32e62abe-4572-48ef-94ac-578c0bacb15a",
   "metadata": {},
   "outputs": [],
   "source": [
    "def read_data(filepath: str) -> pd.DataFrame:\n",
    "    return pd.read_csv(filepath)\n",
    "\n",
    "def process_data(df: pd.DataFrame) -> Tuple[List[Tensor]]:\n",
    "    smiles = df['neut-smiles']\n",
    "    mols = [chemprop.features.featurization.MolGraph(s) for s in smiles]\n",
    "    xs = [Tensor(m.f_atoms) for m in mols]\n",
    "    conns = [get_connectivity(m) for m in mols]\n",
    "    edge_indexes = [torch.tensor(conn, dtype=torch.long).T.contiguous() for conn in conns]\n",
    "    ys = Tensor(df['SD Z-score'].values)\n",
    "    return [Data(x=x, edge_index=index, y=y) for x, index, y in zip(xs, edge_indexes, ys)]"
   ]
  },
  {
   "cell_type": "code",
   "execution_count": null,
   "id": "b519cea1-6579-43b5-917f-01ec0adcee72",
   "metadata": {},
   "outputs": [],
   "source": [
    "def process_data_batch_mol_graph(df: pd.DataFrame) -> Tuple[List[Tensor]]:\n",
    "    smiles = df['neut-smiles']\n",
    "    mols = chemprop.features.featurization.mol2graph(smiles)\n",
    "    xs = [mols.f_atoms[s:e] for s, e in mols.a_scope]\n",
    "    edge_indexes = [mols.get_a2a()[s, e] for s, e in mols.b_scope]\n",
    "    ys = Tensor(df['SD Z-score'].values)\n",
    "    return [Data(x=x, edge_index=index, y=y) for x, index, y in zip(xs, edge_indexes, ys)]"
   ]
  },
  {
   "cell_type": "code",
   "execution_count": 8,
   "id": "b5c20644-c7f6-49a1-9a7a-4aa62e66555a",
   "metadata": {},
   "outputs": [],
   "source": [
    "class DRDataset(InMemoryDataset):\n",
    "    def __init__(self, root):\n",
    "        super().__init__(root)\n",
    "        self.data, self.slices = torch.load(self.processed_paths[0])\n",
    "        \n",
    "    def __get__(self, idx):\n",
    "        return self.get(idx)\n",
    "\n",
    "    @property\n",
    "    def raw_file_names(self):\n",
    "        return [DATAFILE]\n",
    "\n",
    "    @property\n",
    "    def processed_file_names(self):\n",
    "        return ['processed_data.pt']\n",
    "\n",
    "    def process(self):\n",
    "        df = read_data(DATA_DIR + self.raw_file_names[0])\n",
    "        dr_df = df[df['DR'].notnull()]\n",
    "        data_list = process_data(dr_df)\n",
    "        data, slices = self.collate(data_list)\n",
    "        torch.save((data, slices), self.processed_paths[0])"
   ]
  },
  {
   "cell_type": "code",
   "execution_count": 9,
   "id": "a7dee003-8341-41e4-879e-a40188baaadb",
   "metadata": {},
   "outputs": [],
   "source": [
    "def split_dataset(dataset, ratio):\n",
    "    num_train_samples = int(ratio * len(dataset))\n",
    "    training_dataset = dataset.index_select(slice(num_train_samples))\n",
    "    validation_dataset = dataset.index_select(slice(num_train_samples, None))\n",
    "    return training_dataset, validation_dataset"
   ]
  },
  {
   "cell_type": "code",
   "execution_count": 8,
   "id": "2c0e791b-b912-408b-a7c5-6ce738af72f7",
   "metadata": {},
   "outputs": [],
   "source": [
    "@dataclass\n",
    "class ModelArchitecture:\n",
    "    layer_types: List[Type[MessagePassing]]\n",
    "    features: List[int]\n",
    "    pool_type: List[Type[Aggregation]]"
   ]
  },
  {
   "cell_type": "code",
   "execution_count": 24,
   "id": "e5f64c1d-bedf-49f3-bd89-b00f81ae9a06",
   "metadata": {},
   "outputs": [],
   "source": [
    "class GNN(torch.nn.Module):\n",
    "    def __init__(self, arch: ModelArchitecture):\n",
    "        super().__init__()\n",
    "        self.layers = []\n",
    "        for layer_type, num_in, num_out in zip(arch.layer_types, arch.features[:-1], arch.features[1:]):\n",
    "            self.layers.append(layer_type(num_in, num_out))\n",
    "        self.pool = arch.pool_type()\n",
    "\n",
    "    def forward(self, data):\n",
    "        x, edge_index = data.x, data.edge_index\n",
    "\n",
    "        x = self.conv1(x, edge_index)\n",
    "        x = relu(x)\n",
    "        x = dropout(x, training=self.training)\n",
    "        x = self.conv2(x, edge_index)\n",
    "        pred = self.pool(x=x, index=data.batch)\n",
    "        return pred.reshape(1, 1) if pred.shape == 1 else pred\n",
    "            "
   ]
  },
  {
   "cell_type": "code",
   "execution_count": 25,
   "id": "b144233e-bef0-46f9-8346-60e1a19cbf32",
   "metadata": {},
   "outputs": [],
   "source": [
    "class LitGNN(tl.LightningModule):\n",
    "    def __init__(self):\n",
    "        super().__init__()\n",
    "        self.gnn = GNN()\n",
    "        self.loss = MSELoss()\n",
    "        \n",
    "    def training_step(self, batch, batch_idx):\n",
    "        out = self.gnn(batch)\n",
    "        loss = self.loss(out, batch.y)\n",
    "        self.log(\"train_loss\", loss, on_step=True, on_epoch=True, prog_bar=True, logger=True, batch_size=len(batch))\n",
    "        return Tensor(loss)\n",
    "    \n",
    "    def validation_step(self, batch, batch_idx):\n",
    "        out = self.gnn(batch)\n",
    "        loss = self.loss(out, batch.y)\n",
    "        self.log(\"val_loss\", loss, on_step=True, on_epoch=True, prog_bar=True, logger=True, batch_size=len(batch))\n",
    "        return Tensor(loss)\n",
    "    \n",
    "    def test_step(self, batch, batch_idx):\n",
    "        out = self.gnn(batch)\n",
    "        \n",
    "        self.log(\"val_loss\", loss, on_step=True, on_epoch=True, prog_bar=True, logger=True, batch_size=len(batch))\n",
    "        return Tensor(loss)\n",
    "    \n",
    "    def configure_optimizers(self):\n",
    "        optimiser = AdamW(self.gnn.parameters(), lr=1e-3)\n",
    "        return optimiser\n",
    "        "
   ]
  },
  {
   "cell_type": "code",
   "execution_count": 12,
   "id": "25d296f3-581b-463d-a3f3-22391a668633",
   "metadata": {},
   "outputs": [],
   "source": [
    "dataset = DRDataset(root=DATA_DIR)\n",
    "dataset.shuffle()\n",
    "training_dataset, validation_dataset = split_dataset(dataset, TRAIN_TEST_SPLIT)\n",
    "training_dataloader = DataLoader(training_dataset, batch_size=BATCH_SIZE)\n",
    "validation_dataloader = DataLoader(validation_dataset, batch_size=BATCH_SIZE)"
   ]
  },
  {
   "cell_type": "code",
   "execution_count": 10,
   "id": "eac40d81-1c90-4aff-9029-237a500a3634",
   "metadata": {},
   "outputs": [],
   "source": [
    "model = Sequential('x, edge_index', [\n",
    "    (GCNConv(133, 64), 'x, edge_index -> x'),\n",
    "    ReLU(inplace=True),\n",
    "    (GCNConv(64, 64), 'x, edge_index -> x'),\n",
    "    ReLU(inplace=True),\n",
    "    Linear(64, 1),\n",
    "])"
   ]
  },
  {
   "cell_type": "code",
   "execution_count": null,
   "id": "a9f88bfe-f3ff-4ddf-941b-a467db3d208b",
   "metadata": {},
   "outputs": [],
   "source": [
    "model = LitGNN()\n",
    "trainer = tl.Trainer(\n",
    "    accelerator=\"cpu\",\n",
    "    max_epochs=5\n",
    ")\n",
    "trainer.fit(\n",
    "    model,\n",
    "    training_dataloader,\n",
    "    validation_dataloader\n",
    ")"
   ]
  },
  {
   "cell_type": "code",
   "execution_count": 27,
   "id": "5c98f5c4-c926-4af2-893e-8590a64e976f",
   "metadata": {},
   "outputs": [
    {
     "name": "stdout",
     "output_type": "stream",
     "text": [
      "Validation DataLoader 0: 100%|████████████████████████████████████████████████████████████████████████████████████████████████████████████████████████████████████████████████████████████████████████| 66/66 [00:00<00:00, 191.87it/s]\n",
      "────────────────────────────────────────────────────────────────────────────────────────────────────────────────────────────────────────────────────────────────────────────────────────────────────────────────────────────────────────\n",
      "     Validate metric           DataLoader 0\n",
      "────────────────────────────────────────────────────────────────────────────────────────────────────────────────────────────────────────────────────────────────────────────────────────────────────────────────────────────────────────\n",
      "     val_loss_epoch         0.2511858344078064\n",
      "────────────────────────────────────────────────────────────────────────────────────────────────────────────────────────────────────────────────────────────────────────────────────────────────────────────────────────────────────────\n"
     ]
    },
    {
     "data": {
      "text/plain": [
       "[{'val_loss_epoch': 0.2511858344078064}]"
      ]
     },
     "execution_count": 27,
     "metadata": {},
     "output_type": "execute_result"
    }
   ],
   "source": [
    "trainer.validate(model, validation_dataloader)"
   ]
  },
  {
   "cell_type": "code",
   "execution_count": 17,
   "id": "f149f3db-baa3-4d62-b067-3d655d655760",
   "metadata": {},
   "outputs": [
    {
     "data": {
      "text/html": [
       "\n",
       "      <iframe id=\"tensorboard-frame-9305edb79c8138bd\" width=\"100%\" height=\"800\" frameborder=\"0\">\n",
       "      </iframe>\n",
       "      <script>\n",
       "        (function() {\n",
       "          const frame = document.getElementById(\"tensorboard-frame-9305edb79c8138bd\");\n",
       "          const url = new URL(\"/\", window.location);\n",
       "          const port = 6006;\n",
       "          if (port) {\n",
       "            url.port = port;\n",
       "          }\n",
       "          frame.src = url;\n",
       "        })();\n",
       "      </script>\n",
       "    "
      ],
      "text/plain": [
       "<IPython.core.display.HTML object>"
      ]
     },
     "metadata": {},
     "output_type": "display_data"
    }
   ],
   "source": [
    "%reload_ext tensorboard\n",
    "%tensorboard --logdir=src/lightning_logs/"
   ]
  },
  {
   "cell_type": "code",
   "execution_count": null,
   "id": "2bc579ec-40f0-41ea-a8a3-a10d620e1f69",
   "metadata": {},
   "outputs": [],
   "source": []
  }
 ],
 "metadata": {
  "kernelspec": {
   "display_name": "Python 3 (ipykernel)",
   "language": "python",
   "name": "python3"
  },
  "language_info": {
   "codemirror_mode": {
    "name": "ipython",
    "version": 3
   },
   "file_extension": ".py",
   "mimetype": "text/x-python",
   "name": "python",
   "nbconvert_exporter": "python",
   "pygments_lexer": "ipython3",
   "version": "3.10.6"
  }
 },
 "nbformat": 4,
 "nbformat_minor": 5
}
